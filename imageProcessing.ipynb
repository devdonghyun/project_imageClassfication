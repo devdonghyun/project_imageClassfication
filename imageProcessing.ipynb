{
 "metadata": {
  "language_info": {
   "codemirror_mode": {
    "name": "ipython",
    "version": 3
   },
   "file_extension": ".py",
   "mimetype": "text/x-python",
   "name": "python",
   "nbconvert_exporter": "python",
   "pygments_lexer": "ipython3",
   "version": "3.8.5-final"
  },
  "orig_nbformat": 2,
  "kernelspec": {
   "name": "python3",
   "display_name": "Python 3",
   "language": "python"
  }
 },
 "nbformat": 4,
 "nbformat_minor": 2,
 "cells": [
  {
   "cell_type": "code",
   "execution_count": 5,
   "metadata": {},
   "outputs": [
    {
     "output_type": "error",
     "ename": "ImportError",
     "evalue": "cannot import name 'imread' from 'scipy.misc' (/Users/andonghyun/opt/anaconda3/lib/python3.8/site-packages/scipy/misc/__init__.py)",
     "traceback": [
      "\u001b[0;31m---------------------------------------------------------------------------\u001b[0m",
      "\u001b[0;31mImportError\u001b[0m                               Traceback (most recent call last)",
      "\u001b[0;32m<ipython-input-5-5a6c091cdde0>\u001b[0m in \u001b[0;36m<module>\u001b[0;34m\u001b[0m\n\u001b[1;32m      1\u001b[0m \u001b[0;32mimport\u001b[0m \u001b[0mnumpy\u001b[0m \u001b[0;32mas\u001b[0m \u001b[0mnp\u001b[0m\u001b[0;34m\u001b[0m\u001b[0;34m\u001b[0m\u001b[0m\n\u001b[1;32m      2\u001b[0m \u001b[0;32mimport\u001b[0m \u001b[0mos\u001b[0m\u001b[0;34m\u001b[0m\u001b[0;34m\u001b[0m\u001b[0m\n\u001b[0;32m----> 3\u001b[0;31m \u001b[0;32mfrom\u001b[0m \u001b[0mscipy\u001b[0m\u001b[0;34m.\u001b[0m\u001b[0mmisc\u001b[0m \u001b[0;32mimport\u001b[0m \u001b[0mimread\u001b[0m\u001b[0;34m,\u001b[0m \u001b[0mimresize\u001b[0m\u001b[0;34m\u001b[0m\u001b[0;34m\u001b[0m\u001b[0m\n\u001b[0m\u001b[1;32m      4\u001b[0m \u001b[0;32mimport\u001b[0m \u001b[0mmatplotlib\u001b[0m\u001b[0;34m.\u001b[0m\u001b[0mpyplot\u001b[0m \u001b[0;32mas\u001b[0m \u001b[0mplt\u001b[0m\u001b[0;34m\u001b[0m\u001b[0;34m\u001b[0m\u001b[0m\n\u001b[1;32m      5\u001b[0m \u001b[0;32mimport\u001b[0m \u001b[0mskimage\u001b[0m\u001b[0;34m.\u001b[0m\u001b[0mio\u001b[0m\u001b[0;34m\u001b[0m\u001b[0;34m\u001b[0m\u001b[0m\n",
      "\u001b[0;31mImportError\u001b[0m: cannot import name 'imread' from 'scipy.misc' (/Users/andonghyun/opt/anaconda3/lib/python3.8/site-packages/scipy/misc/__init__.py)"
     ]
    }
   ],
   "source": [
    "import numpy as np\n",
    "import os\n",
    "from scipy.misc import imread, imresize\n",
    "import matplotlib.pyplot as plt\n",
    "import skimage.io\n",
    "import skimage.transform"
   ]
  },
  {
   "cell_type": "code",
   "execution_count": 1,
   "metadata": {},
   "outputs": [
    {
     "output_type": "error",
     "ename": "NameError",
     "evalue": "name 'imread' is not defined",
     "traceback": [
      "\u001b[0;31m---------------------------------------------------------------------------\u001b[0m",
      "\u001b[0;31mNameError\u001b[0m                                 Traceback (most recent call last)",
      "\u001b[0;32m<ipython-input-1-e764c939b45b>\u001b[0m in \u001b[0;36m<module>\u001b[0;34m\u001b[0m\n\u001b[0;32m----> 1\u001b[0;31m \u001b[0mcat\u001b[0m \u001b[0;34m=\u001b[0m \u001b[0mimread\u001b[0m\u001b[0;34m(\u001b[0m\u001b[0;34m\"./data/cat.jpg\"\u001b[0m\u001b[0;34m)\u001b[0m\u001b[0;34m\u001b[0m\u001b[0;34m\u001b[0m\u001b[0m\n\u001b[0m\u001b[1;32m      2\u001b[0m \u001b[0mprint_typeshape\u001b[0m\u001b[0;34m(\u001b[0m\u001b[0mcat\u001b[0m\u001b[0;34m)\u001b[0m\u001b[0;34m\u001b[0m\u001b[0;34m\u001b[0m\u001b[0m\n",
      "\u001b[0;31mNameError\u001b[0m: name 'imread' is not defined"
     ]
    }
   ],
   "source": [
    "cat = imread(\"./data/cat.jpg\")\n",
    "print_typeshape(cat)"
   ]
  },
  {
   "cell_type": "code",
   "execution_count": null,
   "metadata": {},
   "outputs": [],
   "source": [
    "plt.figure(figsize=(10, 8))\n",
    "plt.imshow(cat)\n",
    "plt.title('ORIGINAL CAT\")\n",
    "plt.draw()\n"
   ]
  },
  {
   "cell_type": "code",
   "execution_count": null,
   "metadata": {},
   "outputs": [],
   "source": [
    "# LOAD\n",
    "cat2 = imread(./data/cat.jpg\").astype(np.float)\n",
    "print_typeshape(cat2)\n",
    "\n",
    "# PLOT\n",
    "plt.figure(figsize=(10, 8))\n",
    "plt.imshow(cat2)\n",
    "plt.title(\"Original Image with imread.astype(np.float)\")\n",
    "plt.draw()"
   ]
  },
  {
   "cell_type": "code",
   "execution_count": null,
   "metadata": {},
   "outputs": [],
   "source": [
    "# LOAD\n",
    "cat3 = imread(\"./data/cat.jpg\").astype(np.float)/255.\n",
    "print_typeshape(cat3)\n",
    "# PLOT\n",
    "plt.figure(0)\n",
    "plt.imshow(cat3)\n",
    "plt.title(\"Original Image with imread.astype(np.float)/255.\")\n",
    "plt.draw()"
   ]
  },
  {
   "cell_type": "code",
   "execution_count": null,
   "metadata": {},
   "outputs": [],
   "source": [
    "# RESIZE\n",
    "catsmall = imread(cat, [100, 100])\n",
    "print_typeshape(catsmall)\n",
    "# PLOT\n",
    "plt.figure(1)\n",
    "plt.imshow(catsmall)\n",
    "plt.title(\"Resized Image\")\n",
    "plt.draw()\n"
   ]
  },
  {
   "cell_type": "code",
   "execution_count": null,
   "metadata": {},
   "outputs": [],
   "source": [
    "def rgb2gray(rgb):\n",
    "    if len(rgb.shape) is 3:\n",
    "        return np.dot(rgb[...,:3], [0.299, 0.587, 0.114])\n",
    "    else:\n",
    "        print (:Current Image if GRAY!\")\n",
    "        return rgb\n",
    "\n",
    "\n",
    "catsmallgray = rgb2gray(catsmall)\n",
    "print(\"size of catsmallgray is %s\" % (catsmallgray.shape,))\n",
    "print (\"type of catsmallgray is\", type(catsmallgray))\n",
    "\n",
    "plt.imshow(catsmallgray, cmap=plt.get_cmap(\"gray\"))\n",
    "plt.title(\"[imshow] Gray Image\")\n",
    "plt.colorbar()\n",
    "plt.draw()"
   ]
  },
  {
   "cell_type": "code",
   "execution_count": null,
   "metadata": {},
   "outputs": [],
   "source": [
    "# MATRIX TO VECTOR\n",
    "catrowvec = np.reshape(catsmallgray, (1, -1));\n",
    "print (\"size of catrowvec is %s\" % (catrowvec.shape,))\n",
    "\n",
    "# VECTOR TO MATRIX\n",
    "catmatrix = np.reshape(catrowvec, (100, -1));\n",
    "print (\"size of catmatrix is %s\" % (catmatrix.shape,))\n",
    "print (\"type of catmatrix is\", type(catmatrix))\n",
    "\n",
    "plt.imshow(catmatrix, cmap=plt.get_cmap(\"gray\"))\n",
    "plt.title(\"Reshaped Matrix\")\n",
    "plt.colorbar()\n",
    "plt.draw()"
   ]
  },
  {
   "cell_type": "code",
   "execution_count": null,
   "metadata": {},
   "outputs": [],
   "source": [
    "# FIRST, SEE WHAT'S INSIDE THE FOLDER\n",
    "cwd = os.getcwd()\n",
    "path = cwd + \"/img/\"\n",
    "flist = os.listdir(path)\n",
    "print (\"[%d] FILE ARE IN [%s]\" % (len(flist), path))\n",
    "\n",
    "# LIST UP FILES INSIDE THE FOLDER\n",
    "for i, f in enumerate(flist):\n",
    "    print (\"[%d] TH FILE IS [%s]\" % (i, f))\n",
    "\n",
    "# LOAD IMAGES WITH APPROPRIATE EXTENSIONS\n",
    "valid_exts = [\".jpg\", \".gif\", \".png\", \".tga\", \".jpeg\")\n",
    "imgs = []\n",
    "names = []\n",
    "for f in flist:\n",
    "    ext = os.path.splitext(f)[1]\n",
    "    if ext.lower() not in valid_exts:\n",
    "        continue\n",
    "    # LOAD AND APPEND TO IMGS LIST\n",
    "    fullpath = os.path.join(path, f)\n",
    "    imgs.append(imread(fullpath))\n",
    "    # APPEND NAMES\n",
    "    names.append(os.path.splitext(f)[0])\n",
    "\n",
    "# PLOT LOADED IMAGE\n",
    "for img, name in zip(imgs, names):\n",
    "    plt.imshow(img)\n",
    "    plt.title(name)\n",
    "    plt.show()\n",
    "\n",
    "\n",
    "\n"
   ]
  }
 ]
}