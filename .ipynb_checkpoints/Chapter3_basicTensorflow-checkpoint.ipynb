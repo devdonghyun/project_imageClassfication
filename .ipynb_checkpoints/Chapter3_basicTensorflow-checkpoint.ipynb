{
 "cells": [
  {
   "cell_type": "code",
   "execution_count": 8,
   "metadata": {},
   "outputs": [
    {
     "name": "stdout",
     "output_type": "stream",
     "text": [
      "99 a:  0.090189844 b:  7.2880697 loss:  79.86318\n",
      "199 a:  -0.14145067 b:  11.658128 loss:  25.833128\n",
      "299 a:  -0.27187067 b:  14.098 loss:  12.244118\n",
      "399 a:  -0.3292986 b:  15.172717 loss:  10.026844\n",
      "499 a:  -0.3491018 b:  15.543327 loss:  9.79664\n",
      "599 a:  -0.35447028 b:  15.643796 loss:  9.781453\n",
      "699 a:  -0.35561574 b:  15.665232 loss:  9.780821\n",
      "799 a:  -0.35580698 b:  15.668808 loss:  9.780804\n",
      "899 a:  -0.3558313 b:  15.66927 loss:  9.780804\n",
      "999 a:  -0.35583326 b:  15.669303 loss:  9.780805\n"
     ]
    },
    {
     "data": {
      "image/png": "[encoded data removed]",
      "text/plain": [
       "<Figure size 432x288 with 1 Axes>"
      ]
     },
     "metadata": {
      "needs_background": "light"
     },
     "output_type": "display_data"
    }
   ],
   "source": [
    "import tensorflow as tf\n",
    "import random\n",
    "import numpy as np\n",
    "import matplotlib.pyplot as plt\n",
    "\n",
    "X = [0.3, -0.78, 1.26, 0.03, 1.11, 0.24, -0.24, -0.47, -0.77, -0.37, -0.85, -0.41, -0.27, 0.02, -0.76, 2.66]\n",
    "Y = [12.27, 14.44, 11.87, 18.75, 17.52, 16.37, 19.78, 19.51, 12.65, 14.74, 10.72, 21.94, 12.83, 15.51, 17.14, 14.42]\n",
    "\n",
    "a = tf.Variable(random.random())\n",
    "b = tf.Variable(random.random())\n",
    "\n",
    "def compute_loss():\n",
    "    pred = a*X + b\n",
    "    loss = tf.reduce_mean((Y-pred)**2)\n",
    "    return loss\n",
    "\n",
    "optimizer = tf.optimizers.Adam(0.07)\n",
    "for i in range(1000):\n",
    "    optimizer.minimize(compute_loss, var_list=[a,b])\n",
    "    \n",
    "    if i % 100 == 99:\n",
    "        print(i, 'a: ', a.numpy(), 'b: ', b.numpy(), 'loss: ', compute_loss().numpy())\n",
    "        \n",
    "line_x = np.arange(min(X), max(X), 0.01)\n",
    "line_y = a * line_x + b\n",
    "\n",
    "plt.plot(line_x, line_y, 'r-')\n",
    "plt.plot(X,Y,'bo')\n",
    "plt.xlabel('Population Growth Rate (%)')\n",
    "plt.ylabel('Elderly Poplulation Rate (%)')\n",
    "plt.show()\n"
   ]
  },
  {
   "cell_type": "code",
   "execution_count": 11,
   "metadata": {},
   "outputs": [
    {
     "name": "stdout",
     "output_type": "stream",
     "text": [
      "99 a:  3.7190273 b:  -5.275014 loss:  63.929085\n",
      "199 a:  2.581374 b:  -4.374633 loss:  28.776867\n",
      "299 a:  1.133262 b:  -2.1630185 loss:  14.953265\n",
      "399 a:  0.22651584 b:  -0.7533059 loss:  10.650997\n",
      "499 a:  -0.24235415 b:  -0.024564944 loss:  9.654446\n",
      "599 a:  -0.45001215 b:  0.2981605 loss:  9.481199\n",
      "699 a:  -0.529129 b:  0.42111525 loss:  9.458519\n",
      "799 a:  -0.5550997 b:  0.46147704 loss:  9.456284\n",
      "899 a:  -0.5624255 b:  0.47286153 loss:  9.4561205\n",
      "999 a:  -0.564196 b:  0.4756139 loss:  9.45611\n"
     ]
    },
    {
     "data": {
      "image/png": "[encoded data removed]",
      "text/plain": [
       "<Figure size 432x288 with 1 Axes>"
      ]
     },
     "metadata": {
      "needs_background": "light"
     },
     "output_type": "display_data"
    }
   ],
   "source": [
    "import tensorflow as tf\n",
    "import random\n",
    "import numpy as np\n",
    "import matplotlib.pyplot as plt\n",
    "\n",
    "X = [0.3, -0.78, 1.26, 0.03, 1.11, 0.24, -0.24, -0.47, -0.77, -0.37, -0.85, -0.41, -0.27, 0.02, -0.76, 2.66]\n",
    "Y = [12.27, 14.44, 11.87, 18.75, 17.52, 16.37, 19.78, 19.51, 12.65, 14.74, 10.72, 21.94, 12.83, 15.51, 17.14, 14.42]\n",
    "\n",
    "a = tf.Variable(random.random())\n",
    "b = tf.Variable(random.random())\n",
    "c = tf.Variable(random.random())\n",
    "\n",
    "def compute_loss():\n",
    "    pred = a*X*X + b*X + c\n",
    "    loss = tf.reduce_mean((Y-pred)**2)\n",
    "    return loss\n",
    "\n",
    "optimizer = tf.optimizers.Adam(0.07)\n",
    "for i in range(1000):\n",
    "    optimizer.minimize(compute_loss, var_list=[a,b,c])\n",
    "    \n",
    "    if i % 100 == 99:\n",
    "        print(i, 'a: ', a.numpy(), 'b: ', b.numpy(), 'loss: ', compute_loss().numpy())\n",
    "        \n",
    "line_x = np.arange(min(X), max(X), 0.01)\n",
    "line_y = a * line_x * line_x + b * line_x + c\n",
    "\n",
    "plt.plot(line_x, line_y, 'r-')\n",
    "plt.plot(X,Y,'bo')\n",
    "plt.xlabel('Population Growth Rate (%)')\n",
    "plt.ylabel('Elderly Poplulation Rate (%)')\n",
    "plt.show()\n"
   ]
  },
  {
   "cell_type": "code",
   "execution_count": 14,
   "metadata": {},
   "outputs": [
    {
     "name": "stdout",
     "output_type": "stream",
     "text": [
      "Model: \"sequential_2\"\n",
      "_________________________________________________________________\n",
      "Layer (type)                 Output Shape              Param #   \n",
      "=================================================================\n",
      "dense_4 (Dense)              (None, 6)                 12        \n",
      "_________________________________________________________________\n",
      "dense_5 (Dense)              (None, 1)                 7         \n",
      "=================================================================\n",
      "Total params: 19\n",
      "Trainable params: 19\n",
      "Non-trainable params: 0\n",
      "_________________________________________________________________\n",
      "Epoch 1/10\n",
      "1/1 [==============================] - 0s 171ms/step - loss: 256.0531\n",
      "Epoch 2/10\n",
      "1/1 [==============================] - 0s 2ms/step - loss: 136.5098\n",
      "Epoch 3/10\n",
      "1/1 [==============================] - 0s 3ms/step - loss: 12.3653\n",
      "Epoch 4/10\n",
      "1/1 [==============================] - 0s 2ms/step - loss: 10.0840\n",
      "Epoch 5/10\n",
      "1/1 [==============================] - 0s 2ms/step - loss: 9.7159\n",
      "Epoch 6/10\n",
      "1/1 [==============================] - 0s 2ms/step - loss: 9.5568\n",
      "Epoch 7/10\n",
      "1/1 [==============================] - 0s 2ms/step - loss: 9.4837\n",
      "Epoch 8/10\n",
      "1/1 [==============================] - 0s 2ms/step - loss: 9.4469\n",
      "Epoch 9/10\n",
      "1/1 [==============================] - 0s 2ms/step - loss: 9.4190\n",
      "Epoch 10/10\n",
      "1/1 [==============================] - 0s 2ms/step - loss: 9.3918\n"
     ]
    },
    {
     "data": {
      "text/plain": [
       "<tensorflow.python.keras.callbacks.History at 0x7fd3c85112e0>"
      ]
     },
     "execution_count": 14,
     "metadata": {},
     "output_type": "execute_result"
    }
   ],
   "source": [
    "import tensorflow as tf\n",
    "import numpy as np\n",
    "\n",
    "X = [0.3, -0.78, 1.26, 0.03, 1.11, 0.24, -0.24, -0.47, -0.77, -0.37, -0.85, -0.41, -0.27, 0.02, -0.76, 2.66]\n",
    "Y = [12.27, 14.44, 11.87, 18.75, 17.52, 16.37, 19.78, 19.51, 12.65, 14.74, 10.72, 21.94, 12.83, 15.51, 17.14, 14.42]\n",
    "\n",
    "model = tf.keras.Sequential([\n",
    "    tf.keras.layers.Dense(units = 6, activation = 'tanh', input_shape=(1,)),\n",
    "    tf.keras.layers.Dense(units = 1)\n",
    "])\n",
    "\n",
    "model.compile(optimizer = tf.keras.optimizers.SGD(lr=0.1), loss = 'mse')\n",
    "model.summary()\n",
    "\n",
    "model.fit(X, Y, epochs = 10)"
   ]
  },
  {
   "cell_type": "code",
   "execution_count": null,
   "metadata": {},
   "outputs": [],
   "source": [
    "import tensorflow as tf\n",
    "import numpy as np\n",
    "\n",
    "X = np.array([[1,1],[1,0],[0,1],[0,0]])\n",
    "Y = np.array([[1], [0],][])"
   ]
  }
 ],
 "metadata": {
  "kernelspec": {
   "display_name": "Python 3",
   "language": "python",
   "name": "python3"
  },
  "language_info": {
   "codemirror_mode": {
    "name": "ipython",
    "version": 3
   },
   "file_extension": ".py",
   "mimetype": "text/x-python",
   "name": "python",
   "nbconvert_exporter": "python",
   "pygments_lexer": "ipython3",
   "version": "3.8.5"
  }
 },
 "nbformat": 4,
 "nbformat_minor": 4
}
