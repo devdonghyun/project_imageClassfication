{
 "cells": [
  {
   "cell_type": "markdown",
   "metadata": {},
   "source": [
    "# 캘리포니아 어바인 대학에서 제공하는 와인 데이터세트를 이용한  \n",
    "# 레드 와인, 화이트 와인 분류 문제"
   ]
  },
  {
   "cell_type": "markdown",
   "metadata": {},
   "source": [
    "## 이항 분류"
   ]
  },
  {
   "cell_type": "code",
   "execution_count": 1,
   "metadata": {},
   "outputs": [
    {
     "name": "stdout",
     "output_type": "stream",
     "text": [
      "   fixed acidity  volatile acidity  citric acid  residual sugar  chlorides  \\\n",
      "0            7.4              0.70         0.00             1.9      0.076   \n",
      "1            7.8              0.88         0.00             2.6      0.098   \n",
      "2            7.8              0.76         0.04             2.3      0.092   \n",
      "3           11.2              0.28         0.56             1.9      0.075   \n",
      "4            7.4              0.70         0.00             1.9      0.076   \n",
      "\n",
      "   free sulfur dioxide  total sulfur dioxide  density    pH  sulphates  \\\n",
      "0                 11.0                  34.0   0.9978  3.51       0.56   \n",
      "1                 25.0                  67.0   0.9968  3.20       0.68   \n",
      "2                 15.0                  54.0   0.9970  3.26       0.65   \n",
      "3                 17.0                  60.0   0.9980  3.16       0.58   \n",
      "4                 11.0                  34.0   0.9978  3.51       0.56   \n",
      "\n",
      "   alcohol  quality  \n",
      "0      9.4        5  \n",
      "1      9.8        5  \n",
      "2      9.8        5  \n",
      "3      9.8        6  \n",
      "4      9.4        5  \n",
      "   fixed acidity  volatile acidity  citric acid  residual sugar  chlorides  \\\n",
      "0            7.0              0.27         0.36            20.7      0.045   \n",
      "1            6.3              0.30         0.34             1.6      0.049   \n",
      "2            8.1              0.28         0.40             6.9      0.050   \n",
      "3            7.2              0.23         0.32             8.5      0.058   \n",
      "4            7.2              0.23         0.32             8.5      0.058   \n",
      "\n",
      "   free sulfur dioxide  total sulfur dioxide  density    pH  sulphates  \\\n",
      "0                 45.0                 170.0   1.0010  3.00       0.45   \n",
      "1                 14.0                 132.0   0.9940  3.30       0.49   \n",
      "2                 30.0                  97.0   0.9951  3.26       0.44   \n",
      "3                 47.0                 186.0   0.9956  3.19       0.40   \n",
      "4                 47.0                 186.0   0.9956  3.19       0.40   \n",
      "\n",
      "   alcohol  quality  \n",
      "0      8.8        6  \n",
      "1      9.5        6  \n",
      "2     10.1        6  \n",
      "3      9.9        6  \n",
      "4      9.9        6  \n"
     ]
    }
   ],
   "source": [
    "# 와인 데이터세트 불러오기\n",
    "\n",
    "import pandas as pd\n",
    "red = pd.read_csv('http://archive.ics.uci.edu/ml/machine-learning-databases/wine-quality/winequality-red.csv', sep=';')\n",
    "white = pd.read_csv('http://archive.ics.uci.edu/ml/machine-learning-databases/wine-quality/winequality-white.csv', sep=';')\n",
    "print(red.head())\n",
    "print(white.head())"
   ]
  },
  {
   "cell_type": "code",
   "execution_count": 2,
   "metadata": {},
   "outputs": [
    {
     "name": "stdout",
     "output_type": "stream",
     "text": [
      "   fixed acidity  volatile acidity  citric acid  residual sugar  chlorides  \\\n",
      "0            7.4              0.70          0.0             1.9      0.076   \n",
      "1            7.8              0.88          0.0             2.6      0.098   \n",
      "\n",
      "   free sulfur dioxide  total sulfur dioxide  density    pH  sulphates  \\\n",
      "0                 11.0                  34.0   0.9978  3.51       0.56   \n",
      "1                 25.0                  67.0   0.9968  3.20       0.68   \n",
      "\n",
      "   alcohol  quality  type  \n",
      "0      9.4        5     0  \n",
      "1      9.8        5     0  \n",
      "   fixed acidity  volatile acidity  citric acid  residual sugar  chlorides  \\\n",
      "0            7.0              0.27         0.36            20.7      0.045   \n",
      "1            6.3              0.30         0.34             1.6      0.049   \n",
      "\n",
      "   free sulfur dioxide  total sulfur dioxide  density   pH  sulphates  \\\n",
      "0                 45.0                 170.0    1.001  3.0       0.45   \n",
      "1                 14.0                 132.0    0.994  3.3       0.49   \n",
      "\n",
      "   alcohol  quality  type  \n",
      "0      8.8        6     1  \n",
      "1      9.5        6     1  \n",
      "       fixed acidity  volatile acidity  citric acid  residual sugar  \\\n",
      "count    6497.000000       6497.000000  6497.000000     6497.000000   \n",
      "mean        7.215307          0.339666     0.318633        5.443235   \n",
      "std         1.296434          0.164636     0.145318        4.757804   \n",
      "min         3.800000          0.080000     0.000000        0.600000   \n",
      "25%         6.400000          0.230000     0.250000        1.800000   \n",
      "50%         7.000000          0.290000     0.310000        3.000000   \n",
      "75%         7.700000          0.400000     0.390000        8.100000   \n",
      "max        15.900000          1.580000     1.660000       65.800000   \n",
      "\n",
      "         chlorides  free sulfur dioxide  total sulfur dioxide      density  \\\n",
      "count  6497.000000          6497.000000           6497.000000  6497.000000   \n",
      "mean      0.056034            30.525319            115.744574     0.994697   \n",
      "std       0.035034            17.749400             56.521855     0.002999   \n",
      "min       0.009000             1.000000              6.000000     0.987110   \n",
      "25%       0.038000            17.000000             77.000000     0.992340   \n",
      "50%       0.047000            29.000000            118.000000     0.994890   \n",
      "75%       0.065000            41.000000            156.000000     0.996990   \n",
      "max       0.611000           289.000000            440.000000     1.038980   \n",
      "\n",
      "                pH    sulphates      alcohol      quality         type  \n",
      "count  6497.000000  6497.000000  6497.000000  6497.000000  6497.000000  \n",
      "mean      3.218501     0.531268    10.491801     5.818378     0.753886  \n",
      "std       0.160787     0.148806     1.192712     0.873255     0.430779  \n",
      "min       2.720000     0.220000     8.000000     3.000000     0.000000  \n",
      "25%       3.110000     0.430000     9.500000     5.000000     1.000000  \n",
      "50%       3.210000     0.510000    10.300000     6.000000     1.000000  \n",
      "75%       3.320000     0.600000    11.300000     6.000000     1.000000  \n",
      "max       4.010000     2.000000    14.900000     9.000000     1.000000  \n"
     ]
    }
   ],
   "source": [
    "# 와인 데이터셋 합치기\n",
    "\n",
    "# 데이터셋에 새로운 속성 추가하기\n",
    "red['type'] = 0\n",
    "white['type'] = 1\n",
    "print(red.head(2))\n",
    "print(white.head(2))\n",
    "\n",
    "# 두 개의 데이터프레임 합치기\n",
    "wine = pd.concat([red, white])\n",
    "print(wine.describe())"
   ]
  },
  {
   "cell_type": "code",
   "execution_count": 3,
   "metadata": {},
   "outputs": [
    {
     "data": {
      "image/png": "[encoded data removed]",
      "text/plain": [
       "<Figure size 432x288 with 1 Axes>"
      ]
     },
     "metadata": {
      "needs_background": "light"
     },
     "output_type": "display_data"
    },
    {
     "name": "stdout",
     "output_type": "stream",
     "text": [
      "1    4898\n",
      "0    1599\n",
      "Name: type, dtype: int64\n"
     ]
    }
   ],
   "source": [
    "# 레드 와인과 화이트 와인 type 히스토그램\n",
    "\n",
    "import matplotlib.pyplot as plt\n",
    "\n",
    "plt.hist(wine['type'])\n",
    "plt.xticks([0,1])\n",
    "plt.show()\n",
    "\n",
    "print(wine['type'].value_counts())"
   ]
  },
  {
   "cell_type": "markdown",
   "metadata": {},
   "source": [
    "훈련 데이터와 테스트 데이터로 나누기 전에 레드 와인과 화이트 와인이 비슷한 비율로 들어가도록 데이터를 한 번 랜덤하게 섞어야 함.\n",
    "\n",
    "데이터를 섞기 전에 데이터 정규화가 필요함"
   ]
  },
  {
   "cell_type": "code",
   "execution_count": 4,
   "metadata": {},
   "outputs": [
    {
     "name": "stdout",
     "output_type": "stream",
     "text": [
      "<class 'pandas.core.frame.DataFrame'>\n",
      "Int64Index: 6497 entries, 0 to 4897\n",
      "Data columns (total 13 columns):\n",
      " #   Column                Non-Null Count  Dtype  \n",
      "---  ------                --------------  -----  \n",
      " 0   fixed acidity         6497 non-null   float64\n",
      " 1   volatile acidity      6497 non-null   float64\n",
      " 2   citric acid           6497 non-null   float64\n",
      " 3   residual sugar        6497 non-null   float64\n",
      " 4   chlorides             6497 non-null   float64\n",
      " 5   free sulfur dioxide   6497 non-null   float64\n",
      " 6   total sulfur dioxide  6497 non-null   float64\n",
      " 7   density               6497 non-null   float64\n",
      " 8   pH                    6497 non-null   float64\n",
      " 9   sulphates             6497 non-null   float64\n",
      " 10  alcohol               6497 non-null   float64\n",
      " 11  quality               6497 non-null   int64  \n",
      " 12  type                  6497 non-null   int64  \n",
      "dtypes: float64(11), int64(2)\n",
      "memory usage: 710.6 KB\n",
      "None\n"
     ]
    }
   ],
   "source": [
    "print(wine.info())"
   ]
  },
  {
   "cell_type": "code",
   "execution_count": 5,
   "metadata": {},
   "outputs": [
    {
     "name": "stdout",
     "output_type": "stream",
     "text": [
      "   fixed acidity  volatile acidity  citric acid  residual sugar  chlorides  \\\n",
      "0       0.297521          0.413333     0.000000        0.019939   0.111296   \n",
      "1       0.330579          0.533333     0.000000        0.030675   0.147841   \n",
      "2       0.330579          0.453333     0.024096        0.026074   0.137874   \n",
      "3       0.611570          0.133333     0.337349        0.019939   0.109635   \n",
      "4       0.297521          0.413333     0.000000        0.019939   0.111296   \n",
      "\n",
      "   free sulfur dioxide  total sulfur dioxide   density        pH  sulphates  \\\n",
      "0             0.034722              0.064516  0.206092  0.612403   0.191011   \n",
      "1             0.083333              0.140553  0.186813  0.372093   0.258427   \n",
      "2             0.048611              0.110599  0.190669  0.418605   0.241573   \n",
      "3             0.055556              0.124424  0.209948  0.341085   0.202247   \n",
      "4             0.034722              0.064516  0.206092  0.612403   0.191011   \n",
      "\n",
      "    alcohol   quality  type  \n",
      "0  0.202899  0.333333   0.0  \n",
      "1  0.260870  0.333333   0.0  \n",
      "2  0.260870  0.333333   0.0  \n",
      "3  0.260870  0.500000   0.0  \n",
      "4  0.202899  0.333333   0.0  \n",
      "       fixed acidity  volatile acidity  citric acid  residual sugar  \\\n",
      "count    6497.000000       6497.000000  6497.000000     6497.000000   \n",
      "mean        0.282257          0.173111     0.191948        0.074283   \n",
      "std         0.107143          0.109758     0.087541        0.072972   \n",
      "min         0.000000          0.000000     0.000000        0.000000   \n",
      "25%         0.214876          0.100000     0.150602        0.018405   \n",
      "50%         0.264463          0.140000     0.186747        0.036810   \n",
      "75%         0.322314          0.213333     0.234940        0.115031   \n",
      "max         1.000000          1.000000     1.000000        1.000000   \n",
      "\n",
      "         chlorides  free sulfur dioxide  total sulfur dioxide      density  \\\n",
      "count  6497.000000          6497.000000           6497.000000  6497.000000   \n",
      "mean      0.078129             0.102518              0.252868     0.146262   \n",
      "std       0.058195             0.061630              0.130235     0.057811   \n",
      "min       0.000000             0.000000              0.000000     0.000000   \n",
      "25%       0.048173             0.055556              0.163594     0.100829   \n",
      "50%       0.063123             0.097222              0.258065     0.149990   \n",
      "75%       0.093023             0.138889              0.345622     0.190476   \n",
      "max       1.000000             1.000000              1.000000     1.000000   \n",
      "\n",
      "                pH    sulphates      alcohol      quality         type  \n",
      "count  6497.000000  6497.000000  6497.000000  6497.000000  6497.000000  \n",
      "mean      0.386435     0.174870     0.361131     0.469730     0.753886  \n",
      "std       0.124641     0.083599     0.172857     0.145543     0.430779  \n",
      "min       0.000000     0.000000     0.000000     0.000000     0.000000  \n",
      "25%       0.302326     0.117978     0.217391     0.333333     1.000000  \n",
      "50%       0.379845     0.162921     0.333333     0.500000     1.000000  \n",
      "75%       0.465116     0.213483     0.478261     0.500000     1.000000  \n",
      "max       1.000000     1.000000     1.000000     1.000000     1.000000  \n"
     ]
    }
   ],
   "source": [
    "# 데이터 정규화\n",
    "\n",
    "wine_norm = (wine - wine.min()) / (wine.max() - wine.min())\n",
    "print(wine_norm.head())\n",
    "print(wine_norm.describe())"
   ]
  },
  {
   "cell_type": "code",
   "execution_count": 6,
   "metadata": {},
   "outputs": [
    {
     "name": "stdout",
     "output_type": "stream",
     "text": [
      "      fixed acidity  volatile acidity  citric acid  residual sugar  chlorides  \\\n",
      "1371       0.305785          0.333333     0.337349        0.038344   0.239203   \n",
      "547        0.561983          0.153333     0.295181        0.029141   0.096346   \n",
      "761        0.454545          0.383333     0.156627        0.021472   0.144518   \n",
      "1025       0.396694          0.500000     0.000000        0.033742   0.142857   \n",
      "2521       0.223140          0.066667     0.198795        0.012270   0.033223   \n",
      "\n",
      "      free sulfur dioxide  total sulfur dioxide   density        pH  \\\n",
      "1371             0.013889              0.018433  0.147484  0.379845   \n",
      "547              0.017361              0.034562  0.223443  0.418605   \n",
      "761              0.013889              0.066820  0.197995  0.410853   \n",
      "1025             0.055556              0.085253  0.214189  0.472868   \n",
      "2521             0.118056              0.304147  0.077694  0.496124   \n",
      "\n",
      "      sulphates   alcohol   quality  type  \n",
      "1371   0.455056  0.521739  0.500000   0.0  \n",
      "547    0.359551  0.391304  0.500000   0.0  \n",
      "761    0.112360  0.231884  0.333333   0.0  \n",
      "1025   0.213483  0.347826  0.500000   0.0  \n",
      "2521   0.213483  0.507246  0.666667   1.0  \n",
      "[[0.30578512 0.33333333 0.3373494  0.03834356 0.23920266 0.01388889\n",
      "  0.01843318 0.14748409 0.37984496 0.45505618 0.52173913 0.5\n",
      "  0.        ]\n",
      " [0.56198347 0.15333333 0.29518072 0.0291411  0.09634551 0.01736111\n",
      "  0.03456221 0.22344322 0.41860465 0.35955056 0.39130435 0.5\n",
      "  0.        ]\n",
      " [0.45454545 0.38333333 0.15662651 0.02147239 0.14451827 0.01388889\n",
      "  0.06682028 0.19799499 0.41085271 0.11235955 0.23188406 0.33333333\n",
      "  0.        ]\n",
      " [0.39669421 0.5        0.         0.03374233 0.14285714 0.05555556\n",
      "  0.08525346 0.21418932 0.47286822 0.21348315 0.34782609 0.5\n",
      "  0.        ]\n",
      " [0.2231405  0.06666667 0.19879518 0.01226994 0.03322259 0.11805556\n",
      "  0.30414747 0.07769424 0.49612403 0.21348315 0.50724638 0.66666667\n",
      "  1.        ]]\n"
     ]
    }
   ],
   "source": [
    "# 데이터를 섞은 다음 numpy array로 변환\n",
    "\n",
    "import numpy as np\n",
    "\n",
    "wine_shuffle = wine_norm.sample(frac=1)\n",
    "print(wine_shuffle.head())\n",
    "wine_np = wine_shuffle.to_numpy()\n",
    "print(wine_np[:5])"
   ]
  },
  {
   "cell_type": "code",
   "execution_count": 7,
   "metadata": {},
   "outputs": [
    {
     "name": "stdout",
     "output_type": "stream",
     "text": [
      "[0.30578512 0.33333333 0.3373494  0.03834356 0.23920266 0.01388889\n",
      " 0.01843318 0.14748409 0.37984496 0.45505618 0.52173913 0.5       ]\n",
      "0.0\n",
      "[0.21487603 0.11333333 0.34337349 0.00613497 0.08803987 0.06944444\n",
      " 0.26728111 0.10160015 0.21705426 0.1011236  0.2173913  0.33333333]\n",
      "1.0\n",
      "[1. 0.]\n",
      "[0. 1.]\n"
     ]
    }
   ],
   "source": [
    "# 훈련 데이터와 테스트 데이터 나누기\n",
    "\n",
    "import tensorflow as tf\n",
    "\n",
    "train_idx = int(len(wine_np) * 0.8)\n",
    "train_X, train_Y = wine_np[:train_idx, :-1], wine_np[:train_idx, -1]\n",
    "test_X, test_Y = wine_np[train_idx:, :-1], wine_np[train_idx:, -1]\n",
    "print(train_X[0])\n",
    "print(train_Y[0])\n",
    "print(test_X[0])\n",
    "print(test_Y[0])\n",
    "train_Y = tf.keras.utils.to_categorical(train_Y, num_classes=2)\n",
    "test_Y = tf.keras.utils.to_categorical(test_Y, num_classes=2)\n",
    "print(train_Y[0])\n",
    "print(test_Y[0])"
   ]
  },
  {
   "cell_type": "markdown",
   "metadata": {},
   "source": [
    "## tf.keras.utils.to_categorical: 정답 행렬을 원-핫 인코딩 방식으로 바꿈"
   ]
  },
  {
   "cell_type": "code",
   "execution_count": 8,
   "metadata": {},
   "outputs": [
    {
     "name": "stdout",
     "output_type": "stream",
     "text": [
      "Model: \"sequential\"\n",
      "_________________________________________________________________\n",
      "Layer (type)                 Output Shape              Param #   \n",
      "=================================================================\n",
      "dense (Dense)                (None, 48)                624       \n",
      "_________________________________________________________________\n",
      "dense_1 (Dense)              (None, 24)                1176      \n",
      "_________________________________________________________________\n",
      "dense_2 (Dense)              (None, 12)                300       \n",
      "_________________________________________________________________\n",
      "dense_3 (Dense)              (None, 2)                 26        \n",
      "=================================================================\n",
      "Total params: 2,126\n",
      "Trainable params: 2,126\n",
      "Non-trainable params: 0\n",
      "_________________________________________________________________\n"
     ]
    }
   ],
   "source": [
    "# 와인 데이터셋 분류 모델 생성\n",
    "\n",
    "import tensorflow as tf\n",
    "model = tf.keras.Sequential([\n",
    "    tf.keras.layers.Dense(units=48, activation='relu', input_shape=(12,)),\n",
    "    tf.keras.layers.Dense(units=24, activation='relu'),\n",
    "    tf.keras.layers.Dense(units=12, activation='relu'),\n",
    "    tf.keras.layers.Dense(units=2, activation='softmax')\n",
    "])\n",
    "\n",
    "model.compile(optimizer=tf.keras.optimizers.Adam(lr=0.07), loss='categorical_crossentropy', metrics=['accuracy'])\n",
    "\n",
    "model.summary()"
   ]
  },
  {
   "cell_type": "markdown",
   "metadata": {},
   "source": [
    "## softmax: 큰 값을 강조하고 작은 값은 약화하는 효과를 갖는다.\n",
    "## loss='categorical_crossentropy': \n",
    "    categorical: 범주에 쓰이는 분류\n",
    "    crossentropy: 엔트로피의 기댓값과 비슷하지만 조금 다름\n",
    "## accuracy: 모델의 히스토리에 loss와 accuracy가 함께 저장된다."
   ]
  },
  {
   "cell_type": "code",
   "execution_count": 9,
   "metadata": {},
   "outputs": [
    {
     "name": "stdout",
     "output_type": "stream",
     "text": [
      "Epoch 1/25\n",
      "122/122 [==============================] - 1s 5ms/step - loss: 0.2970 - accuracy: 0.8784 - val_loss: 0.0691 - val_accuracy: 0.9831\n",
      "Epoch 2/25\n",
      "122/122 [==============================] - 0s 1ms/step - loss: 0.0525 - accuracy: 0.9849 - val_loss: 0.0770 - val_accuracy: 0.9785\n",
      "Epoch 3/25\n",
      "122/122 [==============================] - 0s 1ms/step - loss: 0.0756 - accuracy: 0.9787 - val_loss: 0.0569 - val_accuracy: 0.9869\n",
      "Epoch 4/25\n",
      "122/122 [==============================] - 0s 1ms/step - loss: 0.0728 - accuracy: 0.9828 - val_loss: 0.0538 - val_accuracy: 0.9908\n",
      "Epoch 5/25\n",
      "122/122 [==============================] - 0s 1ms/step - loss: 0.0509 - accuracy: 0.9851 - val_loss: 0.0829 - val_accuracy: 0.9646\n",
      "Epoch 6/25\n",
      "122/122 [==============================] - 0s 1ms/step - loss: 0.0491 - accuracy: 0.9817 - val_loss: 0.0568 - val_accuracy: 0.9923\n",
      "Epoch 7/25\n",
      "122/122 [==============================] - 0s 993us/step - loss: 0.0574 - accuracy: 0.9797 - val_loss: 0.0716 - val_accuracy: 0.9846\n",
      "Epoch 8/25\n",
      "122/122 [==============================] - 0s 1ms/step - loss: 0.0271 - accuracy: 0.9921 - val_loss: 0.0419 - val_accuracy: 0.9908\n",
      "Epoch 9/25\n",
      "122/122 [==============================] - 0s 969us/step - loss: 0.0607 - accuracy: 0.9840 - val_loss: 0.0512 - val_accuracy: 0.9915\n",
      "Epoch 10/25\n",
      "122/122 [==============================] - 0s 1ms/step - loss: 0.0369 - accuracy: 0.9899 - val_loss: 0.0603 - val_accuracy: 0.9892\n",
      "Epoch 11/25\n",
      "122/122 [==============================] - 0s 1ms/step - loss: 0.0532 - accuracy: 0.9832 - val_loss: 0.0603 - val_accuracy: 0.9900\n",
      "Epoch 12/25\n",
      "122/122 [==============================] - 0s 990us/step - loss: 0.0372 - accuracy: 0.9892 - val_loss: 0.0580 - val_accuracy: 0.9915\n",
      "Epoch 13/25\n",
      "122/122 [==============================] - 0s 1ms/step - loss: 0.0354 - accuracy: 0.9928 - val_loss: 0.0451 - val_accuracy: 0.9892\n",
      "Epoch 14/25\n",
      "122/122 [==============================] - 0s 1ms/step - loss: 0.0396 - accuracy: 0.9875 - val_loss: 0.0454 - val_accuracy: 0.9908\n",
      "Epoch 15/25\n",
      "122/122 [==============================] - 0s 987us/step - loss: 0.0327 - accuracy: 0.9914 - val_loss: 0.0362 - val_accuracy: 0.9892\n",
      "Epoch 16/25\n",
      "122/122 [==============================] - 0s 1ms/step - loss: 0.0386 - accuracy: 0.9910 - val_loss: 0.0606 - val_accuracy: 0.9869\n",
      "Epoch 17/25\n",
      "122/122 [==============================] - 0s 985us/step - loss: 0.0350 - accuracy: 0.9882 - val_loss: 0.0427 - val_accuracy: 0.9900\n",
      "Epoch 18/25\n",
      "122/122 [==============================] - 0s 989us/step - loss: 0.0299 - accuracy: 0.9923 - val_loss: 0.0364 - val_accuracy: 0.9923\n",
      "Epoch 19/25\n",
      "122/122 [==============================] - 0s 972us/step - loss: 0.0376 - accuracy: 0.9888 - val_loss: 0.0520 - val_accuracy: 0.9908\n",
      "Epoch 20/25\n",
      "122/122 [==============================] - 0s 995us/step - loss: 0.0647 - accuracy: 0.9810 - val_loss: 0.0668 - val_accuracy: 0.9862\n",
      "Epoch 21/25\n",
      "122/122 [==============================] - 0s 1ms/step - loss: 0.0351 - accuracy: 0.9890 - val_loss: 0.0392 - val_accuracy: 0.9923\n",
      "Epoch 22/25\n",
      "122/122 [==============================] - 0s 1ms/step - loss: 0.0260 - accuracy: 0.9927 - val_loss: 0.0431 - val_accuracy: 0.9915\n",
      "Epoch 23/25\n",
      "122/122 [==============================] - 0s 983us/step - loss: 0.0326 - accuracy: 0.9906 - val_loss: 0.0442 - val_accuracy: 0.9915\n",
      "Epoch 24/25\n",
      "122/122 [==============================] - 0s 983us/step - loss: 0.0341 - accuracy: 0.9919 - val_loss: 0.0325 - val_accuracy: 0.9946\n",
      "Epoch 25/25\n",
      "122/122 [==============================] - 0s 983us/step - loss: 0.0500 - accuracy: 0.9825 - val_loss: 0.0365 - val_accuracy: 0.9931\n"
     ]
    }
   ],
   "source": [
    "history = model.fit(train_X, train_Y, epochs=25, batch_size=32, validation_split=0.25)"
   ]
  },
  {
   "cell_type": "code",
   "execution_count": 10,
   "metadata": {},
   "outputs": [
    {
     "data": {
      "image/png": "[encoded data removed]",
      "text/plain": [
       "<Figure size 864x288 with 2 Axes>"
      ]
     },
     "metadata": {
      "needs_background": "light"
     },
     "output_type": "display_data"
    }
   ],
   "source": [
    "import matplotlib.pyplot as plt\n",
    "\n",
    "plt.figure(figsize=(12,4))\n",
    "\n",
    "plt.subplot(1,2,1)\n",
    "plt.plot(history.history['loss'], 'b-', label='loss')\n",
    "plt.plot(history.history['val_loss'], 'r--', label='val_loss')\n",
    "plt.xlabel('Epoch')\n",
    "plt.legend()\n",
    "\n",
    "plt.subplot(1,2,2)\n",
    "plt.plot(history.history['accuracy'], 'g-', label='accuracy')\n",
    "plt.plot(history.history['val_accuracy'], 'k--', label='val_accuracy')\n",
    "plt.xlabel('Epoch')\n",
    "plt.ylim(0.7, 1)\n",
    "plt.legend()\n",
    "\n",
    "plt.show()"
   ]
  },
  {
   "cell_type": "code",
   "execution_count": 11,
   "metadata": {},
   "outputs": [
    {
     "name": "stdout",
     "output_type": "stream",
     "text": [
      "41/41 [==============================] - 0s 585us/step - loss: 0.0277 - accuracy: 0.9962\n"
     ]
    },
    {
     "data": {
      "text/plain": [
       "[0.027698200196027756, 0.9961538314819336]"
      ]
     },
     "execution_count": 11,
     "metadata": {},
     "output_type": "execute_result"
    }
   ],
   "source": [
    "model.evaluate(test_X, test_Y)"
   ]
  },
  {
   "cell_type": "markdown",
   "metadata": {},
   "source": [
    "## 다항 분류"
   ]
  },
  {
   "cell_type": "code",
   "execution_count": 12,
   "metadata": {},
   "outputs": [
    {
     "name": "stdout",
     "output_type": "stream",
     "text": [
      "count    6497.000000\n",
      "mean        5.818378\n",
      "std         0.873255\n",
      "min         3.000000\n",
      "25%         5.000000\n",
      "50%         6.000000\n",
      "75%         6.000000\n",
      "max         9.000000\n",
      "Name: quality, dtype: float64\n",
      "6    2836\n",
      "5    2138\n",
      "7    1079\n",
      "4     216\n",
      "8     193\n",
      "3      30\n",
      "9       5\n",
      "Name: quality, dtype: int64\n"
     ]
    }
   ],
   "source": [
    "# 와인의 품질: 0~10\n",
    "# 다항 분류의 범주로 와인의 품질을 사용\n",
    "\n",
    "print(wine['quality'].describe())\n",
    "print(wine['quality'].value_counts())"
   ]
  },
  {
   "cell_type": "code",
   "execution_count": 13,
   "metadata": {},
   "outputs": [
    {
     "data": {
      "image/png": "[encoded data removed]",
      "text/plain": [
       "<Figure size 432x288 with 1 Axes>"
      ]
     },
     "metadata": {
      "needs_background": "light"
     },
     "output_type": "display_data"
    }
   ],
   "source": [
    "# 와인 품질 히스토그램 시각화\n",
    "\n",
    "import matplotlib.pyplot as plt\n",
    "\n",
    "plt.hist(wine['quality'], bins=7, rwidth=0.8)\n",
    "plt.show()"
   ]
  },
  {
   "cell_type": "markdown",
   "metadata": {},
   "source": [
    "데이터의 양이 작고, 범주의 수가 너무 많은 데다 각 데이터의 숫자가 차이나기 때문에 모든 범주에 대한 세세한 분류는 어려움 "
   ]
  },
  {
   "cell_type": "code",
   "execution_count": 14,
   "metadata": {},
   "outputs": [
    {
     "name": "stdout",
     "output_type": "stream",
     "text": [
      "count    6497.000000\n",
      "mean        0.829614\n",
      "std         0.731124\n",
      "min         0.000000\n",
      "25%         0.000000\n",
      "50%         1.000000\n",
      "75%         1.000000\n",
      "max         2.000000\n",
      "Name: new_quality, dtype: float64\n",
      "1.0    2836\n",
      "0.0    2384\n",
      "2.0    1277\n",
      "Name: new_quality, dtype: int64\n"
     ]
    }
   ],
   "source": [
    "wine.loc[wine['quality'] <= 5, 'new_quality'] = 0\n",
    "wine.loc[wine['quality'] == 6, 'new_quality'] = 1\n",
    "wine.loc[wine['quality'] >= 7, 'new_quality'] = 2\n",
    "\n",
    "print(wine['new_quality'].describe())\n",
    "print(wine['new_quality'].value_counts())"
   ]
  },
  {
   "cell_type": "code",
   "execution_count": 15,
   "metadata": {},
   "outputs": [
    {
     "name": "stdout",
     "output_type": "stream",
     "text": [
      "Apple\n"
     ]
    }
   ],
   "source": [
    "# DataFrame loc 연습\n",
    "\n",
    "data = [['Apple', 11], ['Banana', 23], ['Coconut', 35]]\n",
    "df = pd.DataFrame(data, columns=['Fruit', 'Count'])\n",
    "print(df.loc[0,'Fruit'])"
   ]
  },
  {
   "cell_type": "code",
   "execution_count": 16,
   "metadata": {},
   "outputs": [],
   "source": [
    "del wine['quality']\n",
    "wine_backup = wine.copy()\n",
    "wine_norm = (wine - wine.min()) / (wine.max() - wine.min())\n",
    "wine_norm['new_quality'] = wine_backup['new_quality']\n",
    "wine_shuffle = wine_norm.sample(frac=1)\n",
    "wine_np = wine_shuffle.to_numpy()\n",
    "\n",
    "train_idx = int(len(wine_np) * 0.8)\n",
    "train_X, train_Y = wine_np[:train_idx, :-1], wine_np[:train_idx, -1]\n",
    "test_X, test_Y = wine_np[train_idx:, :-1], wine_np[train_idx:, -1]\n",
    "train_Y = tf.keras.utils.to_categorical(train_Y, num_classes=3)\n",
    "test_Y = tf.keras.utils.to_categorical(test_Y, num_classes=3)"
   ]
  },
  {
   "cell_type": "code",
   "execution_count": 22,
   "metadata": {},
   "outputs": [
    {
     "name": "stdout",
     "output_type": "stream",
     "text": [
      "Epoch 1/50\n",
      "122/122 [==============================] - 1s 2ms/step - loss: 1.0369 - accuracy: 0.4600 - val_loss: 1.0091 - val_accuracy: 0.4808\n",
      "Epoch 2/50\n",
      "122/122 [==============================] - 0s 959us/step - loss: 0.9501 - accuracy: 0.5278 - val_loss: 0.9263 - val_accuracy: 0.5269\n",
      "Epoch 3/50\n",
      "122/122 [==============================] - 0s 1ms/step - loss: 0.8891 - accuracy: 0.5529 - val_loss: 0.8841 - val_accuracy: 0.5669\n",
      "Epoch 4/50\n",
      "122/122 [==============================] - 0s 1ms/step - loss: 0.8689 - accuracy: 0.5573 - val_loss: 0.8682 - val_accuracy: 0.5808\n",
      "Epoch 5/50\n",
      "122/122 [==============================] - 0s 1ms/step - loss: 0.8778 - accuracy: 0.5579 - val_loss: 0.8595 - val_accuracy: 0.5977\n",
      "Epoch 6/50\n",
      "122/122 [==============================] - 0s 1ms/step - loss: 0.8466 - accuracy: 0.5833 - val_loss: 0.8627 - val_accuracy: 0.5862\n",
      "Epoch 7/50\n",
      "122/122 [==============================] - 0s 1ms/step - loss: 0.8493 - accuracy: 0.5916 - val_loss: 0.8520 - val_accuracy: 0.5900\n",
      "Epoch 8/50\n",
      "122/122 [==============================] - 0s 1ms/step - loss: 0.8525 - accuracy: 0.5781 - val_loss: 0.8489 - val_accuracy: 0.6069\n",
      "Epoch 9/50\n",
      "122/122 [==============================] - 0s 1ms/step - loss: 0.8465 - accuracy: 0.5821 - val_loss: 0.8694 - val_accuracy: 0.5900\n",
      "Epoch 10/50\n",
      "122/122 [==============================] - 0s 1ms/step - loss: 0.8490 - accuracy: 0.5795 - val_loss: 0.8403 - val_accuracy: 0.6185\n",
      "Epoch 11/50\n",
      "122/122 [==============================] - 0s 1ms/step - loss: 0.8340 - accuracy: 0.5867 - val_loss: 0.8424 - val_accuracy: 0.5923\n",
      "Epoch 12/50\n",
      "122/122 [==============================] - 0s 1ms/step - loss: 0.8460 - accuracy: 0.5968 - val_loss: 0.8362 - val_accuracy: 0.6115\n",
      "Epoch 13/50\n",
      "122/122 [==============================] - 0s 1ms/step - loss: 0.8225 - accuracy: 0.5994 - val_loss: 0.8313 - val_accuracy: 0.6062\n",
      "Epoch 14/50\n",
      "122/122 [==============================] - 0s 1ms/step - loss: 0.8298 - accuracy: 0.5960 - val_loss: 0.8301 - val_accuracy: 0.6077\n",
      "Epoch 15/50\n",
      "122/122 [==============================] - 0s 1ms/step - loss: 0.8295 - accuracy: 0.5892 - val_loss: 0.8523 - val_accuracy: 0.5777\n",
      "Epoch 16/50\n",
      "122/122 [==============================] - 0s 1ms/step - loss: 0.8394 - accuracy: 0.5931 - val_loss: 0.8261 - val_accuracy: 0.6085\n",
      "Epoch 17/50\n",
      "122/122 [==============================] - 0s 1ms/step - loss: 0.8457 - accuracy: 0.5884 - val_loss: 0.8390 - val_accuracy: 0.6000\n",
      "Epoch 18/50\n",
      "122/122 [==============================] - 0s 1ms/step - loss: 0.8345 - accuracy: 0.5999 - val_loss: 0.8245 - val_accuracy: 0.6062\n",
      "Epoch 19/50\n",
      "122/122 [==============================] - 0s 1ms/step - loss: 0.8177 - accuracy: 0.5914 - val_loss: 0.8306 - val_accuracy: 0.6077\n",
      "Epoch 20/50\n",
      "122/122 [==============================] - 0s 989us/step - loss: 0.8238 - accuracy: 0.5915 - val_loss: 0.8203 - val_accuracy: 0.6062\n",
      "Epoch 21/50\n",
      "122/122 [==============================] - 0s 1ms/step - loss: 0.8176 - accuracy: 0.6061 - val_loss: 0.8198 - val_accuracy: 0.6100\n",
      "Epoch 22/50\n",
      "122/122 [==============================] - 0s 1ms/step - loss: 0.8176 - accuracy: 0.6051 - val_loss: 0.8216 - val_accuracy: 0.5985\n",
      "Epoch 23/50\n",
      "122/122 [==============================] - 0s 982us/step - loss: 0.8277 - accuracy: 0.5933 - val_loss: 0.8278 - val_accuracy: 0.6015\n",
      "Epoch 24/50\n",
      "122/122 [==============================] - 0s 1ms/step - loss: 0.8129 - accuracy: 0.6095 - val_loss: 0.8336 - val_accuracy: 0.6031\n",
      "Epoch 25/50\n",
      "122/122 [==============================] - 0s 1ms/step - loss: 0.8123 - accuracy: 0.6107 - val_loss: 0.8438 - val_accuracy: 0.5969\n",
      "Epoch 26/50\n",
      "122/122 [==============================] - 0s 1ms/step - loss: 0.8146 - accuracy: 0.6075 - val_loss: 0.8194 - val_accuracy: 0.6000\n",
      "Epoch 27/50\n",
      "122/122 [==============================] - 0s 1ms/step - loss: 0.8057 - accuracy: 0.6186 - val_loss: 0.8322 - val_accuracy: 0.6031\n",
      "Epoch 28/50\n",
      "122/122 [==============================] - 0s 1ms/step - loss: 0.8003 - accuracy: 0.6012 - val_loss: 0.8231 - val_accuracy: 0.6062\n",
      "Epoch 29/50\n",
      "122/122 [==============================] - 0s 996us/step - loss: 0.8175 - accuracy: 0.6088 - val_loss: 0.8136 - val_accuracy: 0.6046\n",
      "Epoch 30/50\n",
      "122/122 [==============================] - 0s 1ms/step - loss: 0.8149 - accuracy: 0.6152 - val_loss: 0.8275 - val_accuracy: 0.5938\n",
      "Epoch 31/50\n",
      "122/122 [==============================] - 0s 1ms/step - loss: 0.8235 - accuracy: 0.6080 - val_loss: 0.8078 - val_accuracy: 0.6031\n",
      "Epoch 32/50\n",
      "122/122 [==============================] - 0s 1ms/step - loss: 0.8206 - accuracy: 0.6017 - val_loss: 0.8058 - val_accuracy: 0.6162\n",
      "Epoch 33/50\n",
      "122/122 [==============================] - 0s 1ms/step - loss: 0.7983 - accuracy: 0.6246 - val_loss: 0.8064 - val_accuracy: 0.6162\n",
      "Epoch 34/50\n",
      "122/122 [==============================] - 0s 1ms/step - loss: 0.7972 - accuracy: 0.6149 - val_loss: 0.8031 - val_accuracy: 0.6100\n",
      "Epoch 35/50\n",
      "122/122 [==============================] - 0s 1ms/step - loss: 0.7902 - accuracy: 0.6255 - val_loss: 0.8247 - val_accuracy: 0.6077\n",
      "Epoch 36/50\n",
      "122/122 [==============================] - 0s 1ms/step - loss: 0.8142 - accuracy: 0.6037 - val_loss: 0.8162 - val_accuracy: 0.6031\n",
      "Epoch 37/50\n",
      "122/122 [==============================] - 0s 940us/step - loss: 0.7904 - accuracy: 0.6202 - val_loss: 0.8067 - val_accuracy: 0.6162\n",
      "Epoch 38/50\n",
      "122/122 [==============================] - 0s 932us/step - loss: 0.7933 - accuracy: 0.6237 - val_loss: 0.8057 - val_accuracy: 0.6115\n",
      "Epoch 39/50\n",
      "122/122 [==============================] - 0s 922us/step - loss: 0.7924 - accuracy: 0.6228 - val_loss: 0.8068 - val_accuracy: 0.6100\n",
      "Epoch 40/50\n",
      "122/122 [==============================] - 0s 941us/step - loss: 0.7777 - accuracy: 0.6190 - val_loss: 0.8099 - val_accuracy: 0.6100\n",
      "Epoch 41/50\n",
      "122/122 [==============================] - 0s 942us/step - loss: 0.7912 - accuracy: 0.6235 - val_loss: 0.8040 - val_accuracy: 0.6100\n",
      "Epoch 42/50\n",
      "122/122 [==============================] - 0s 1ms/step - loss: 0.7815 - accuracy: 0.6337 - val_loss: 0.8067 - val_accuracy: 0.6031\n",
      "Epoch 43/50\n",
      "122/122 [==============================] - 0s 936us/step - loss: 0.7588 - accuracy: 0.6421 - val_loss: 0.8044 - val_accuracy: 0.5992\n",
      "Epoch 44/50\n",
      "122/122 [==============================] - 0s 1ms/step - loss: 0.7931 - accuracy: 0.6096 - val_loss: 0.8105 - val_accuracy: 0.6123\n",
      "Epoch 45/50\n",
      "122/122 [==============================] - 0s 1ms/step - loss: 0.7883 - accuracy: 0.6204 - val_loss: 0.8017 - val_accuracy: 0.6069\n",
      "Epoch 46/50\n",
      "122/122 [==============================] - 0s 930us/step - loss: 0.7916 - accuracy: 0.6258 - val_loss: 0.8032 - val_accuracy: 0.6085\n",
      "Epoch 47/50\n",
      "122/122 [==============================] - 0s 945us/step - loss: 0.7906 - accuracy: 0.6251 - val_loss: 0.8017 - val_accuracy: 0.6131\n",
      "Epoch 48/50\n",
      "122/122 [==============================] - 0s 949us/step - loss: 0.7943 - accuracy: 0.6177 - val_loss: 0.8054 - val_accuracy: 0.6062\n",
      "Epoch 49/50\n",
      "122/122 [==============================] - 0s 957us/step - loss: 0.7971 - accuracy: 0.6201 - val_loss: 0.8142 - val_accuracy: 0.6138\n",
      "Epoch 50/50\n",
      "122/122 [==============================] - 0s 930us/step - loss: 0.7813 - accuracy: 0.6255 - val_loss: 0.7984 - val_accuracy: 0.6092\n"
     ]
    }
   ],
   "source": [
    "# 와인 데이터셋 다항 분류 모델 생성 및 학습\n",
    "model = tf.keras.Sequential([\n",
    "    tf.keras.layers.Dense(units=48, activation='relu', input_shape=(12,)),\n",
    "    tf.keras.layers.Dense(units=24, activation='relu'),\n",
    "    tf.keras.layers.Dense(units=12, activation='relu'),\n",
    "    tf.keras.layers.Dense(units=3, activation='softmax')\n",
    "])\n",
    "\n",
    "model.compile(optimizer=tf.keras.optimizers.Adam(lr=0.003), loss='categorical_crossentropy', metrics=['accuracy'])\n",
    "\n",
    "history= model.fit(train_X, train_Y, epochs=25, batch_size=32, validation_split=0.25)"
   ]
  },
  {
   "cell_type": "code",
   "execution_count": 23,
   "metadata": {},
   "outputs": [
    {
     "data": {
      "image/png": "[encoded data removed]",
      "text/plain": [
       "<Figure size 864x288 with 2 Axes>"
      ]
     },
     "metadata": {
      "needs_background": "light"
     },
     "output_type": "display_data"
    }
   ],
   "source": [
    "import matplotlib.pyplot as plt\n",
    "plt.figure(figsize=(12,4))\n",
    "\n",
    "plt.subplot(1,2,1)\n",
    "plt.plot(history.history['loss'], 'b-', label='loss')\n",
    "plt.plot(history.history['val_loss'], 'r--', label='val_loss')\n",
    "plt.xlabel('Epoch')\n",
    "plt.legend()\n",
    "\n",
    "plt.subplot(1,2,2)\n",
    "plt.plot(history.history['accuracy'], 'g-', label='accuracy')\n",
    "plt.plot(history.history['val_accuracy'], 'k--', label='val_accuracy')\n",
    "plt.xlabel('Epoch')\n",
    "plt.legend()\n",
    "\n",
    "plt.show()"
   ]
  },
  {
   "cell_type": "code",
   "execution_count": 24,
   "metadata": {},
   "outputs": [
    {
     "name": "stdout",
     "output_type": "stream",
     "text": [
      "41/41 [==============================] - 0s 643us/step - loss: 0.8419 - accuracy: 0.5708\n"
     ]
    },
    {
     "data": {
      "text/plain": [
       "[0.8418806195259094, 0.5707692503929138]"
      ]
     },
     "execution_count": 24,
     "metadata": {},
     "output_type": "execute_result"
    }
   ],
   "source": [
    "model.evaluate(test_X, test_Y)"
   ]
  },
  {
   "cell_type": "code",
   "execution_count": null,
   "metadata": {},
   "outputs": [],
   "source": []
  }
 ],
 "metadata": {
  "kernelspec": {
   "display_name": "Python 3",
   "language": "python",
   "name": "python3"
  },
  "language_info": {
   "codemirror_mode": {
    "name": "ipython",
    "version": 3
   },
   "file_extension": ".py",
   "mimetype": "text/x-python",
   "name": "python",
   "nbconvert_exporter": "python",
   "pygments_lexer": "ipython3",
   "version": "3.8.5"
  }
 },
 "nbformat": 4,
 "nbformat_minor": 4
}
