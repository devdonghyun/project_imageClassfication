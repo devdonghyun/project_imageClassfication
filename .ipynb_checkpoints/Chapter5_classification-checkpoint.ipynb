{
 "cells": [
  {
   "cell_type": "markdown",
   "metadata": {},
   "source": [
    "# 캘리포니아 어바인 대학에서 제공하는 와인 데이터세트를 이용한  \n",
    "# 레드 와인, 화이트 와인 분류 문제"
   ]
  },
  {
   "cell_type": "markdown",
   "metadata": {},
   "source": [
    "## 이항 분류"
   ]
  },
  {
   "cell_type": "code",
   "execution_count": 1,
   "metadata": {},
   "outputs": [
    {
     "name": "stdout",
     "output_type": "stream",
     "text": [
      "   fixed acidity  volatile acidity  citric acid  residual sugar  chlorides  \\\n",
      "0            7.4              0.70         0.00             1.9      0.076   \n",
      "1            7.8              0.88         0.00             2.6      0.098   \n",
      "2            7.8              0.76         0.04             2.3      0.092   \n",
      "3           11.2              0.28         0.56             1.9      0.075   \n",
      "4            7.4              0.70         0.00             1.9      0.076   \n",
      "\n",
      "   free sulfur dioxide  total sulfur dioxide  density    pH  sulphates  \\\n",
      "0                 11.0                  34.0   0.9978  3.51       0.56   \n",
      "1                 25.0                  67.0   0.9968  3.20       0.68   \n",
      "2                 15.0                  54.0   0.9970  3.26       0.65   \n",
      "3                 17.0                  60.0   0.9980  3.16       0.58   \n",
      "4                 11.0                  34.0   0.9978  3.51       0.56   \n",
      "\n",
      "   alcohol  quality  \n",
      "0      9.4        5  \n",
      "1      9.8        5  \n",
      "2      9.8        5  \n",
      "3      9.8        6  \n",
      "4      9.4        5  \n",
      "   fixed acidity  volatile acidity  citric acid  residual sugar  chlorides  \\\n",
      "0            7.0              0.27         0.36            20.7      0.045   \n",
      "1            6.3              0.30         0.34             1.6      0.049   \n",
      "2            8.1              0.28         0.40             6.9      0.050   \n",
      "3            7.2              0.23         0.32             8.5      0.058   \n",
      "4            7.2              0.23         0.32             8.5      0.058   \n",
      "\n",
      "   free sulfur dioxide  total sulfur dioxide  density    pH  sulphates  \\\n",
      "0                 45.0                 170.0   1.0010  3.00       0.45   \n",
      "1                 14.0                 132.0   0.9940  3.30       0.49   \n",
      "2                 30.0                  97.0   0.9951  3.26       0.44   \n",
      "3                 47.0                 186.0   0.9956  3.19       0.40   \n",
      "4                 47.0                 186.0   0.9956  3.19       0.40   \n",
      "\n",
      "   alcohol  quality  \n",
      "0      8.8        6  \n",
      "1      9.5        6  \n",
      "2     10.1        6  \n",
      "3      9.9        6  \n",
      "4      9.9        6  \n"
     ]
    }
   ],
   "source": [
    "# 와인 데이터세트 불러오기\n",
    "\n",
    "import pandas as pd\n",
    "red = pd.read_csv('http://archive.ics.uci.edu/ml/machine-learning-databases/wine-quality/winequality-red.csv', sep=';')\n",
    "white = pd.read_csv('http://archive.ics.uci.edu/ml/machine-learning-databases/wine-quality/winequality-white.csv', sep=';')\n",
    "print(red.head())\n",
    "print(white.head())"
   ]
  },
  {
   "cell_type": "code",
   "execution_count": 2,
   "metadata": {},
   "outputs": [
    {
     "name": "stdout",
     "output_type": "stream",
     "text": [
      "   fixed acidity  volatile acidity  citric acid  residual sugar  chlorides  \\\n",
      "0            7.4              0.70          0.0             1.9      0.076   \n",
      "1            7.8              0.88          0.0             2.6      0.098   \n",
      "\n",
      "   free sulfur dioxide  total sulfur dioxide  density    pH  sulphates  \\\n",
      "0                 11.0                  34.0   0.9978  3.51       0.56   \n",
      "1                 25.0                  67.0   0.9968  3.20       0.68   \n",
      "\n",
      "   alcohol  quality  type  \n",
      "0      9.4        5     0  \n",
      "1      9.8        5     0  \n",
      "   fixed acidity  volatile acidity  citric acid  residual sugar  chlorides  \\\n",
      "0            7.0              0.27         0.36            20.7      0.045   \n",
      "1            6.3              0.30         0.34             1.6      0.049   \n",
      "\n",
      "   free sulfur dioxide  total sulfur dioxide  density   pH  sulphates  \\\n",
      "0                 45.0                 170.0    1.001  3.0       0.45   \n",
      "1                 14.0                 132.0    0.994  3.3       0.49   \n",
      "\n",
      "   alcohol  quality  type  \n",
      "0      8.8        6     1  \n",
      "1      9.5        6     1  \n",
      "       fixed acidity  volatile acidity  citric acid  residual sugar  \\\n",
      "count    6497.000000       6497.000000  6497.000000     6497.000000   \n",
      "mean        7.215307          0.339666     0.318633        5.443235   \n",
      "std         1.296434          0.164636     0.145318        4.757804   \n",
      "min         3.800000          0.080000     0.000000        0.600000   \n",
      "25%         6.400000          0.230000     0.250000        1.800000   \n",
      "50%         7.000000          0.290000     0.310000        3.000000   \n",
      "75%         7.700000          0.400000     0.390000        8.100000   \n",
      "max        15.900000          1.580000     1.660000       65.800000   \n",
      "\n",
      "         chlorides  free sulfur dioxide  total sulfur dioxide      density  \\\n",
      "count  6497.000000          6497.000000           6497.000000  6497.000000   \n",
      "mean      0.056034            30.525319            115.744574     0.994697   \n",
      "std       0.035034            17.749400             56.521855     0.002999   \n",
      "min       0.009000             1.000000              6.000000     0.987110   \n",
      "25%       0.038000            17.000000             77.000000     0.992340   \n",
      "50%       0.047000            29.000000            118.000000     0.994890   \n",
      "75%       0.065000            41.000000            156.000000     0.996990   \n",
      "max       0.611000           289.000000            440.000000     1.038980   \n",
      "\n",
      "                pH    sulphates      alcohol      quality         type  \n",
      "count  6497.000000  6497.000000  6497.000000  6497.000000  6497.000000  \n",
      "mean      3.218501     0.531268    10.491801     5.818378     0.753886  \n",
      "std       0.160787     0.148806     1.192712     0.873255     0.430779  \n",
      "min       2.720000     0.220000     8.000000     3.000000     0.000000  \n",
      "25%       3.110000     0.430000     9.500000     5.000000     1.000000  \n",
      "50%       3.210000     0.510000    10.300000     6.000000     1.000000  \n",
      "75%       3.320000     0.600000    11.300000     6.000000     1.000000  \n",
      "max       4.010000     2.000000    14.900000     9.000000     1.000000  \n"
     ]
    }
   ],
   "source": [
    "# 와인 데이터셋 합치기\n",
    "\n",
    "# 데이터셋에 새로운 속성 추가하기\n",
    "red['type'] = 0\n",
    "white['type'] = 1\n",
    "print(red.head(2))\n",
    "print(white.head(2))\n",
    "\n",
    "# 두 개의 데이터프레임 합치기\n",
    "wine = pd.concat([red, white])\n",
    "print(wine.describe())"
   ]
  },
  {
   "cell_type": "code",
   "execution_count": 3,
   "metadata": {},
   "outputs": [
    {
     "data": {
      "image/png": "[encoded data removed]",
      "text/plain": [
       "<Figure size 432x288 with 1 Axes>"
      ]
     },
     "metadata": {
      "needs_background": "light"
     },
     "output_type": "display_data"
    },
    {
     "name": "stdout",
     "output_type": "stream",
     "text": [
      "1    4898\n",
      "0    1599\n",
      "Name: type, dtype: int64\n"
     ]
    }
   ],
   "source": [
    "# 레드 와인과 화이트 와인 type 히스토그램\n",
    "\n",
    "import matplotlib.pyplot as plt\n",
    "\n",
    "plt.hist(wine['type'])\n",
    "plt.xticks([0,1])\n",
    "plt.show()\n",
    "\n",
    "print(wine['type'].value_counts())"
   ]
  },
  {
   "cell_type": "markdown",
   "metadata": {},
   "source": [
    "훈련 데이터와 테스트 데이터로 나누기 전에 레드 와인과 화이트 와인이 비슷한 비율로 들어가도록 데이터를 한 번 랜덤하게 섞어야 함.\n",
    "\n",
    "데이터를 섞기 전에 데이터 정규화가 필요함"
   ]
  },
  {
   "cell_type": "code",
   "execution_count": 4,
   "metadata": {},
   "outputs": [
    {
     "name": "stdout",
     "output_type": "stream",
     "text": [
      "<class 'pandas.core.frame.DataFrame'>\n",
      "Int64Index: 6497 entries, 0 to 4897\n",
      "Data columns (total 13 columns):\n",
      " #   Column                Non-Null Count  Dtype  \n",
      "---  ------                --------------  -----  \n",
      " 0   fixed acidity         6497 non-null   float64\n",
      " 1   volatile acidity      6497 non-null   float64\n",
      " 2   citric acid           6497 non-null   float64\n",
      " 3   residual sugar        6497 non-null   float64\n",
      " 4   chlorides             6497 non-null   float64\n",
      " 5   free sulfur dioxide   6497 non-null   float64\n",
      " 6   total sulfur dioxide  6497 non-null   float64\n",
      " 7   density               6497 non-null   float64\n",
      " 8   pH                    6497 non-null   float64\n",
      " 9   sulphates             6497 non-null   float64\n",
      " 10  alcohol               6497 non-null   float64\n",
      " 11  quality               6497 non-null   int64  \n",
      " 12  type                  6497 non-null   int64  \n",
      "dtypes: float64(11), int64(2)\n",
      "memory usage: 710.6 KB\n",
      "None\n"
     ]
    }
   ],
   "source": [
    "print(wine.info())"
   ]
  },
  {
   "cell_type": "code",
   "execution_count": 5,
   "metadata": {},
   "outputs": [
    {
     "name": "stdout",
     "output_type": "stream",
     "text": [
      "   fixed acidity  volatile acidity  citric acid  residual sugar  chlorides  \\\n",
      "0       0.297521          0.413333     0.000000        0.019939   0.111296   \n",
      "1       0.330579          0.533333     0.000000        0.030675   0.147841   \n",
      "2       0.330579          0.453333     0.024096        0.026074   0.137874   \n",
      "3       0.611570          0.133333     0.337349        0.019939   0.109635   \n",
      "4       0.297521          0.413333     0.000000        0.019939   0.111296   \n",
      "\n",
      "   free sulfur dioxide  total sulfur dioxide   density        pH  sulphates  \\\n",
      "0             0.034722              0.064516  0.206092  0.612403   0.191011   \n",
      "1             0.083333              0.140553  0.186813  0.372093   0.258427   \n",
      "2             0.048611              0.110599  0.190669  0.418605   0.241573   \n",
      "3             0.055556              0.124424  0.209948  0.341085   0.202247   \n",
      "4             0.034722              0.064516  0.206092  0.612403   0.191011   \n",
      "\n",
      "    alcohol   quality  type  \n",
      "0  0.202899  0.333333   0.0  \n",
      "1  0.260870  0.333333   0.0  \n",
      "2  0.260870  0.333333   0.0  \n",
      "3  0.260870  0.500000   0.0  \n",
      "4  0.202899  0.333333   0.0  \n",
      "       fixed acidity  volatile acidity  citric acid  residual sugar  \\\n",
      "count    6497.000000       6497.000000  6497.000000     6497.000000   \n",
      "mean        0.282257          0.173111     0.191948        0.074283   \n",
      "std         0.107143          0.109758     0.087541        0.072972   \n",
      "min         0.000000          0.000000     0.000000        0.000000   \n",
      "25%         0.214876          0.100000     0.150602        0.018405   \n",
      "50%         0.264463          0.140000     0.186747        0.036810   \n",
      "75%         0.322314          0.213333     0.234940        0.115031   \n",
      "max         1.000000          1.000000     1.000000        1.000000   \n",
      "\n",
      "         chlorides  free sulfur dioxide  total sulfur dioxide      density  \\\n",
      "count  6497.000000          6497.000000           6497.000000  6497.000000   \n",
      "mean      0.078129             0.102518              0.252868     0.146262   \n",
      "std       0.058195             0.061630              0.130235     0.057811   \n",
      "min       0.000000             0.000000              0.000000     0.000000   \n",
      "25%       0.048173             0.055556              0.163594     0.100829   \n",
      "50%       0.063123             0.097222              0.258065     0.149990   \n",
      "75%       0.093023             0.138889              0.345622     0.190476   \n",
      "max       1.000000             1.000000              1.000000     1.000000   \n",
      "\n",
      "                pH    sulphates      alcohol      quality         type  \n",
      "count  6497.000000  6497.000000  6497.000000  6497.000000  6497.000000  \n",
      "mean      0.386435     0.174870     0.361131     0.469730     0.753886  \n",
      "std       0.124641     0.083599     0.172857     0.145543     0.430779  \n",
      "min       0.000000     0.000000     0.000000     0.000000     0.000000  \n",
      "25%       0.302326     0.117978     0.217391     0.333333     1.000000  \n",
      "50%       0.379845     0.162921     0.333333     0.500000     1.000000  \n",
      "75%       0.465116     0.213483     0.478261     0.500000     1.000000  \n",
      "max       1.000000     1.000000     1.000000     1.000000     1.000000  \n"
     ]
    }
   ],
   "source": [
    "# 데이터 정규화\n",
    "\n",
    "wine_norm = (wine - wine.min()) / (wine.max() - wine.min())\n",
    "print(wine_norm.head())\n",
    "print(wine_norm.describe())"
   ]
  },
  {
   "cell_type": "code",
   "execution_count": 6,
   "metadata": {},
   "outputs": [
    {
     "name": "stdout",
     "output_type": "stream",
     "text": [
      "      fixed acidity  volatile acidity  citric acid  residual sugar  chlorides  \\\n",
      "1969       0.206612          0.220000     0.180723        0.039877   0.034884   \n",
      "1428       0.330579          0.373333     0.000000        0.019939   0.104651   \n",
      "788        0.165289          0.173333     0.096386        0.098160   0.046512   \n",
      "1497       0.256198          0.440000     0.018072        0.026074   0.074751   \n",
      "938        0.198347          0.180000     0.174699        0.102761   0.058140   \n",
      "\n",
      "      free sulfur dioxide  total sulfur dioxide   density        pH  \\\n",
      "1969             0.166667              0.364055  0.107769  0.627907   \n",
      "1428             0.090278              0.112903  0.175246  0.457364   \n",
      "788              0.086806              0.253456  0.150183  0.573643   \n",
      "1497             0.020833              0.023041  0.153653  0.565891   \n",
      "938              0.190972              0.548387  0.163678  0.496124   \n",
      "\n",
      "      sulphates   alcohol   quality  type  \n",
      "1969   0.320225  0.536232  0.666667   1.0  \n",
      "1428   0.230337  0.434783  0.333333   0.0  \n",
      "788    0.129213  0.289855  0.666667   1.0  \n",
      "1497   0.230337  0.507246  0.500000   0.0  \n",
      "938    0.185393  0.289855  0.500000   1.0  \n",
      "[[0.20661157 0.22       0.18072289 0.0398773  0.03488372 0.16666667\n",
      "  0.3640553  0.10776942 0.62790698 0.32022472 0.53623188 0.66666667\n",
      "  1.        ]\n",
      " [0.33057851 0.37333333 0.         0.01993865 0.10465116 0.09027778\n",
      "  0.11290323 0.17524581 0.45736434 0.23033708 0.43478261 0.33333333\n",
      "  0.        ]\n",
      " [0.16528926 0.17333333 0.09638554 0.09815951 0.04651163 0.08680556\n",
      "  0.25345622 0.15018315 0.57364341 0.12921348 0.28985507 0.66666667\n",
      "  1.        ]\n",
      " [0.25619835 0.44       0.01807229 0.02607362 0.07475083 0.02083333\n",
      "  0.02304147 0.15365336 0.56589147 0.23033708 0.50724638 0.5\n",
      "  0.        ]\n",
      " [0.19834711 0.18       0.1746988  0.10276074 0.05813953 0.19097222\n",
      "  0.5483871  0.16367843 0.49612403 0.18539326 0.28985507 0.5\n",
      "  1.        ]]\n"
     ]
    }
   ],
   "source": [
    "# 데이터를 섞은 다음 numpy array로 변환\n",
    "\n",
    "import numpy as np\n",
    "\n",
    "wine_shuffle = wine_norm.sample(frac=1)\n",
    "print(wine_shuffle.head())\n",
    "wine_np = wine_shuffle.to_numpy()\n",
    "print(wine_np[:5])"
   ]
  },
  {
   "cell_type": "code",
   "execution_count": 7,
   "metadata": {},
   "outputs": [
    {
     "name": "stdout",
     "output_type": "stream",
     "text": [
      "[0.20661157 0.22       0.18072289 0.0398773  0.03488372 0.16666667\n",
      " 0.3640553  0.10776942 0.62790698 0.32022472 0.53623188 0.66666667]\n",
      "1.0\n",
      "[0.2231405  0.53666667 0.         0.02607362 0.26079734 0.01736111\n",
      " 0.01382488 0.16194332 0.65116279 0.16292135 0.4057971  0.33333333]\n",
      "0.0\n",
      "[0. 1.]\n",
      "[1. 0.]\n"
     ]
    }
   ],
   "source": [
    "# 훈련 데이터와 테스트 데이터 나누기\n",
    "\n",
    "import tensorflow as tf\n",
    "\n",
    "train_idx = int(len(wine_np) * 0.8)\n",
    "train_X, train_Y = wine_np[:train_idx, :-1], wine_np[:train_idx, -1]\n",
    "test_X, test_Y = wine_np[train_idx:, :-1], wine_np[train_idx:, -1]\n",
    "print(train_X[0])\n",
    "print(train_Y[0])\n",
    "print(test_X[0])\n",
    "print(test_Y[0])\n",
    "train_Y = tf.keras.utils.to_categorical(train_Y, num_classes=2)\n",
    "test_Y = tf.keras.utils.to_categorical(test_Y, num_classes=2)\n",
    "print(train_Y[0])\n",
    "print(test_Y[0])"
   ]
  },
  {
   "cell_type": "markdown",
   "metadata": {},
   "source": [
    "## tf.keras.utils.to_categorical: 정답 행렬을 원-핫 인코딩 방식으로 바꿈"
   ]
  },
  {
   "cell_type": "code",
   "execution_count": 8,
   "metadata": {},
   "outputs": [
    {
     "name": "stdout",
     "output_type": "stream",
     "text": [
      "Model: \"sequential\"\n",
      "_________________________________________________________________\n",
      "Layer (type)                 Output Shape              Param #   \n",
      "=================================================================\n",
      "dense (Dense)                (None, 48)                624       \n",
      "_________________________________________________________________\n",
      "dense_1 (Dense)              (None, 24)                1176      \n",
      "_________________________________________________________________\n",
      "dense_2 (Dense)              (None, 12)                300       \n",
      "_________________________________________________________________\n",
      "dense_3 (Dense)              (None, 2)                 26        \n",
      "=================================================================\n",
      "Total params: 2,126\n",
      "Trainable params: 2,126\n",
      "Non-trainable params: 0\n",
      "_________________________________________________________________\n"
     ]
    }
   ],
   "source": [
    "# 와인 데이터셋 분류 모델 생성\n",
    "\n",
    "import tensorflow as tf\n",
    "model = tf.keras.Sequential([\n",
    "    tf.keras.layers.Dense(units=48, activation='relu', input_shape=(12,)),\n",
    "    tf.keras.layers.Dense(units=24, activation='relu'),\n",
    "    tf.keras.layers.Dense(units=12, activation='relu'),\n",
    "    tf.keras.layers.Dense(units=2, activation='softmax')\n",
    "])\n",
    "\n",
    "model.compile(optimizer=tf.keras.optimizers.Adam(lr=0.07), loss='categorical_crossentropy', metrics=['accuracy'])\n",
    "\n",
    "model.summary()"
   ]
  },
  {
   "cell_type": "markdown",
   "metadata": {},
   "source": [
    "## softmax: 큰 값을 강조하고 작은 값은 약화하는 효과를 갖는다.\n",
    "## loss='categorical_crossentropy': \n",
    "    categorical: 범주에 쓰이는 분류\n",
    "    crossentropy: 엔트로피의 기댓값과 비슷하지만 조금 다름\n",
    "## accuracy: 모델의 히스토리에 loss와 accuracy가 함께 저장된다."
   ]
  },
  {
   "cell_type": "code",
   "execution_count": 9,
   "metadata": {},
   "outputs": [
    {
     "name": "stdout",
     "output_type": "stream",
     "text": [
      "Epoch 1/25\n",
      "122/122 [==============================] - 1s 5ms/step - loss: 0.3899 - accuracy: 0.8158 - val_loss: 0.0751 - val_accuracy: 0.9823\n",
      "Epoch 2/25\n",
      "122/122 [==============================] - 0s 980us/step - loss: 0.0670 - accuracy: 0.9806 - val_loss: 0.0381 - val_accuracy: 0.9900\n",
      "Epoch 3/25\n",
      "122/122 [==============================] - 0s 951us/step - loss: 0.0465 - accuracy: 0.9878 - val_loss: 0.0541 - val_accuracy: 0.9877\n",
      "Epoch 4/25\n",
      "122/122 [==============================] - 0s 1ms/step - loss: 0.0524 - accuracy: 0.9891 - val_loss: 0.0468 - val_accuracy: 0.9877\n",
      "Epoch 5/25\n",
      "122/122 [==============================] - 0s 976us/step - loss: 0.0524 - accuracy: 0.9865 - val_loss: 0.0440 - val_accuracy: 0.9908\n",
      "Epoch 6/25\n",
      "122/122 [==============================] - 0s 946us/step - loss: 0.0425 - accuracy: 0.9910 - val_loss: 0.0480 - val_accuracy: 0.9885\n",
      "Epoch 7/25\n",
      "122/122 [==============================] - 0s 1ms/step - loss: 0.0594 - accuracy: 0.9856 - val_loss: 0.0269 - val_accuracy: 0.9938\n",
      "Epoch 8/25\n",
      "122/122 [==============================] - 0s 944us/step - loss: 0.0430 - accuracy: 0.9885 - val_loss: 0.0280 - val_accuracy: 0.9931\n",
      "Epoch 9/25\n",
      "122/122 [==============================] - 0s 952us/step - loss: 0.0415 - accuracy: 0.9919 - val_loss: 0.0322 - val_accuracy: 0.9900\n",
      "Epoch 10/25\n",
      "122/122 [==============================] - 0s 950us/step - loss: 0.0401 - accuracy: 0.9901 - val_loss: 0.0311 - val_accuracy: 0.9908\n",
      "Epoch 11/25\n",
      "122/122 [==============================] - 0s 960us/step - loss: 0.0356 - accuracy: 0.9905 - val_loss: 0.0289 - val_accuracy: 0.9900\n",
      "Epoch 12/25\n",
      "122/122 [==============================] - 0s 1ms/step - loss: 0.0366 - accuracy: 0.9919 - val_loss: 0.0318 - val_accuracy: 0.9908\n",
      "Epoch 13/25\n",
      "122/122 [==============================] - 0s 1ms/step - loss: 0.0536 - accuracy: 0.9820 - val_loss: 0.0483 - val_accuracy: 0.9908\n",
      "Epoch 14/25\n",
      "122/122 [==============================] - 0s 1ms/step - loss: 0.0440 - accuracy: 0.9896 - val_loss: 0.0329 - val_accuracy: 0.9900\n",
      "Epoch 15/25\n",
      "122/122 [==============================] - 0s 1ms/step - loss: 0.0317 - accuracy: 0.9930 - val_loss: 0.0429 - val_accuracy: 0.9877\n",
      "Epoch 16/25\n",
      "122/122 [==============================] - 0s 1ms/step - loss: 0.0357 - accuracy: 0.9916 - val_loss: 0.0344 - val_accuracy: 0.9915\n",
      "Epoch 17/25\n",
      "122/122 [==============================] - 0s 1ms/step - loss: 0.0280 - accuracy: 0.9910 - val_loss: 0.0274 - val_accuracy: 0.9900\n",
      "Epoch 18/25\n",
      "122/122 [==============================] - 0s 1ms/step - loss: 0.0284 - accuracy: 0.9953 - val_loss: 0.0628 - val_accuracy: 0.9823\n",
      "Epoch 19/25\n",
      "122/122 [==============================] - 0s 1ms/step - loss: 0.0364 - accuracy: 0.9906 - val_loss: 0.0292 - val_accuracy: 0.9900\n",
      "Epoch 20/25\n",
      "122/122 [==============================] - 0s 941us/step - loss: 0.0388 - accuracy: 0.9917 - val_loss: 0.1634 - val_accuracy: 0.9638\n",
      "Epoch 21/25\n",
      "122/122 [==============================] - 0s 1ms/step - loss: 0.0666 - accuracy: 0.9851 - val_loss: 0.0327 - val_accuracy: 0.9892\n",
      "Epoch 22/25\n",
      "122/122 [==============================] - 0s 2ms/step - loss: 0.0376 - accuracy: 0.9930 - val_loss: 0.0295 - val_accuracy: 0.9908\n",
      "Epoch 23/25\n",
      "122/122 [==============================] - 0s 1ms/step - loss: 0.0382 - accuracy: 0.9902 - val_loss: 0.0326 - val_accuracy: 0.9900\n",
      "Epoch 24/25\n",
      "122/122 [==============================] - 0s 998us/step - loss: 0.0302 - accuracy: 0.9935 - val_loss: 0.0421 - val_accuracy: 0.9862\n",
      "Epoch 25/25\n",
      "122/122 [==============================] - 0s 1ms/step - loss: 0.0471 - accuracy: 0.9866 - val_loss: 0.0456 - val_accuracy: 0.9908\n"
     ]
    }
   ],
   "source": [
    "history = model.fit(train_X, train_Y, epochs=25, batch_size=32, validation_split=0.25)"
   ]
  },
  {
   "cell_type": "code",
   "execution_count": 10,
   "metadata": {},
   "outputs": [
    {
     "data": {
      "image/png": "[encoded data removed]",
      "text/plain": [
       "<Figure size 864x288 with 2 Axes>"
      ]
     },
     "metadata": {
      "needs_background": "light"
     },
     "output_type": "display_data"
    }
   ],
   "source": [
    "import matplotlib.pyplot as plt\n",
    "\n",
    "plt.figure(figsize=(12,4))\n",
    "\n",
    "plt.subplot(1,2,1)\n",
    "plt.plot(history.history['loss'], 'b-', label='loss')\n",
    "plt.plot(history.history['val_loss'], 'r--', label='val_loss')\n",
    "plt.xlabel('Epoch')\n",
    "plt.legend()\n",
    "\n",
    "plt.subplot(1,2,2)\n",
    "plt.plot(history.history['accuracy'], 'g-', label='accuracy')\n",
    "plt.plot(history.history['val_accuracy'], 'k--', label='val_accuracy')\n",
    "plt.xlabel('Epoch')\n",
    "plt.ylim(0.7, 1)\n",
    "plt.legend()\n",
    "\n",
    "plt.show()"
   ]
  },
  {
   "cell_type": "code",
   "execution_count": 11,
   "metadata": {},
   "outputs": [
    {
     "name": "stdout",
     "output_type": "stream",
     "text": [
      "41/41 [==============================] - 0s 504us/step - loss: 0.0668 - accuracy: 0.9877\n"
     ]
    },
    {
     "data": {
      "text/plain": [
       "[0.06683927774429321, 0.9876922965049744]"
      ]
     },
     "execution_count": 11,
     "metadata": {},
     "output_type": "execute_result"
    }
   ],
   "source": [
    "model.evaluate(test_X, test_Y)"
   ]
  },
  {
   "cell_type": "markdown",
   "metadata": {},
   "source": [
    "## 다항 분류"
   ]
  },
  {
   "cell_type": "code",
   "execution_count": 12,
   "metadata": {},
   "outputs": [
    {
     "name": "stdout",
     "output_type": "stream",
     "text": [
      "count    6497.000000\n",
      "mean        5.818378\n",
      "std         0.873255\n",
      "min         3.000000\n",
      "25%         5.000000\n",
      "50%         6.000000\n",
      "75%         6.000000\n",
      "max         9.000000\n",
      "Name: quality, dtype: float64\n",
      "6    2836\n",
      "5    2138\n",
      "7    1079\n",
      "4     216\n",
      "8     193\n",
      "3      30\n",
      "9       5\n",
      "Name: quality, dtype: int64\n"
     ]
    }
   ],
   "source": [
    "# 와인의 품질: 0~10\n",
    "# 다항 분류의 범주로 와인의 품질을 사용\n",
    "\n",
    "print(wine['quality'].describe())\n",
    "print(wine['quality'].value_counts())"
   ]
  },
  {
   "cell_type": "code",
   "execution_count": 13,
   "metadata": {},
   "outputs": [
    {
     "data": {
      "image/png": "[encoded data removed]",
      "text/plain": [
       "<Figure size 432x288 with 1 Axes>"
      ]
     },
     "metadata": {
      "needs_background": "light"
     },
     "output_type": "display_data"
    }
   ],
   "source": [
    "# 와인 품질 히스토그램 시각화\n",
    "\n",
    "import matplotlib.pyplot as plt\n",
    "\n",
    "plt.hist(wine['quality'], bins=7, rwidth=0.8)\n",
    "plt.show()"
   ]
  },
  {
   "cell_type": "markdown",
   "metadata": {},
   "source": [
    "데이터의 양이 작고, 범주의 수가 너무 많은 데다 각 데이터의 숫자가 차이나기 때문에 모든 범주에 대한 세세한 분류는 어려움 "
   ]
  },
  {
   "cell_type": "code",
   "execution_count": 14,
   "metadata": {},
   "outputs": [
    {
     "name": "stdout",
     "output_type": "stream",
     "text": [
      "count    6497.000000\n",
      "mean        0.829614\n",
      "std         0.731124\n",
      "min         0.000000\n",
      "25%         0.000000\n",
      "50%         1.000000\n",
      "75%         1.000000\n",
      "max         2.000000\n",
      "Name: new_quality, dtype: float64\n",
      "1.0    2836\n",
      "0.0    2384\n",
      "2.0    1277\n",
      "Name: new_quality, dtype: int64\n"
     ]
    }
   ],
   "source": [
    "wine.loc[wine['quality'] <= 5, 'new_quality'] = 0\n",
    "wine.loc[wine['quality'] == 6, 'new_quality'] = 1\n",
    "wine.loc[wine['quality'] >= 7, 'new_quality'] = 2\n",
    "\n",
    "print(wine['new_quality'].describe())\n",
    "print(wine['new_quality'].value_counts())"
   ]
  },
  {
   "cell_type": "code",
   "execution_count": 15,
   "metadata": {},
   "outputs": [
    {
     "name": "stdout",
     "output_type": "stream",
     "text": [
      "Apple\n"
     ]
    }
   ],
   "source": [
    "# DataFrame loc 연습\n",
    "\n",
    "data = [['Apple', 11], ['Banana', 23], ['Coconut', 35]]\n",
    "df = pd.DataFrame(data, columns=['Fruit', 'Count'])\n",
    "print(df.loc[0,'Fruit'])"
   ]
  },
  {
   "cell_type": "code",
   "execution_count": 16,
   "metadata": {},
   "outputs": [],
   "source": [
    "del wine['quality']\n",
    "wine_backup = wine.copy()\n",
    "wine_norm = (wine - wine.min()) / (wine.max() - wine.min())\n",
    "wine_norm['new_quality'] = wine_backup['new_quality']\n",
    "wine_shuffle = wine_norm.sample(frac=1)\n",
    "wine_np = wine_shuffle.to_numpy()\n",
    "\n",
    "train_idx = int(len(wine_np) * 0.8)\n",
    "train_X, train_Y = wine_np[:train_idx, :-1], wine_np[:train_idx, -1]\n",
    "test_X, test_Y = wine_np[train_idx:, :-1], wine_np[train_idx:, -1]\n",
    "train_Y = tf.keras.utils.to_categorical(train_Y, num_classes=3)\n",
    "test_Y = tf.keras.utils.to_categorical(test_Y, num_classes=3)"
   ]
  },
  {
   "cell_type": "code",
   "execution_count": 17,
   "metadata": {},
   "outputs": [
    {
     "name": "stdout",
     "output_type": "stream",
     "text": [
      "Epoch 1/25\n",
      "122/122 [==============================] - 1s 4ms/step - loss: 1.0554 - accuracy: 0.4190 - val_loss: 0.8961 - val_accuracy: 0.5385\n",
      "Epoch 2/25\n",
      "122/122 [==============================] - 0s 2ms/step - loss: 0.9004 - accuracy: 0.5504 - val_loss: 0.8812 - val_accuracy: 0.5646\n",
      "Epoch 3/25\n",
      "122/122 [==============================] - 0s 2ms/step - loss: 0.8814 - accuracy: 0.5607 - val_loss: 0.8733 - val_accuracy: 0.5692\n",
      "Epoch 4/25\n",
      "122/122 [==============================] - 0s 2ms/step - loss: 0.8776 - accuracy: 0.5675 - val_loss: 0.8518 - val_accuracy: 0.5854\n",
      "Epoch 5/25\n",
      "122/122 [==============================] - 0s 2ms/step - loss: 0.8631 - accuracy: 0.5663 - val_loss: 0.8578 - val_accuracy: 0.5815\n",
      "Epoch 6/25\n",
      "122/122 [==============================] - 0s 2ms/step - loss: 0.8481 - accuracy: 0.5829 - val_loss: 0.8792 - val_accuracy: 0.5615\n",
      "Epoch 7/25\n",
      "122/122 [==============================] - 0s 2ms/step - loss: 0.8736 - accuracy: 0.5692 - val_loss: 0.8512 - val_accuracy: 0.5754\n",
      "Epoch 8/25\n",
      "122/122 [==============================] - 0s 2ms/step - loss: 0.8535 - accuracy: 0.5716 - val_loss: 0.8452 - val_accuracy: 0.5862\n",
      "Epoch 9/25\n",
      "122/122 [==============================] - 0s 2ms/step - loss: 0.8462 - accuracy: 0.5766 - val_loss: 0.8612 - val_accuracy: 0.5938\n",
      "Epoch 10/25\n",
      "122/122 [==============================] - 0s 2ms/step - loss: 0.8356 - accuracy: 0.5836 - val_loss: 0.8450 - val_accuracy: 0.5977\n",
      "Epoch 11/25\n",
      "122/122 [==============================] - 0s 2ms/step - loss: 0.8392 - accuracy: 0.5886 - val_loss: 0.8422 - val_accuracy: 0.6008\n",
      "Epoch 12/25\n",
      "122/122 [==============================] - 0s 2ms/step - loss: 0.8400 - accuracy: 0.5870 - val_loss: 0.8488 - val_accuracy: 0.6085\n",
      "Epoch 13/25\n",
      "122/122 [==============================] - 0s 1ms/step - loss: 0.8302 - accuracy: 0.5905 - val_loss: 0.8502 - val_accuracy: 0.5869\n",
      "Epoch 14/25\n",
      "122/122 [==============================] - 0s 932us/step - loss: 0.8298 - accuracy: 0.5795 - val_loss: 0.8347 - val_accuracy: 0.5985\n",
      "Epoch 15/25\n",
      "122/122 [==============================] - 0s 991us/step - loss: 0.8193 - accuracy: 0.6047 - val_loss: 0.8404 - val_accuracy: 0.5862\n",
      "Epoch 16/25\n",
      "122/122 [==============================] - 0s 961us/step - loss: 0.8137 - accuracy: 0.6056 - val_loss: 0.8369 - val_accuracy: 0.6015\n",
      "Epoch 17/25\n",
      "122/122 [==============================] - 0s 979us/step - loss: 0.8188 - accuracy: 0.6072 - val_loss: 0.8346 - val_accuracy: 0.6069\n",
      "Epoch 18/25\n",
      "122/122 [==============================] - 0s 985us/step - loss: 0.8139 - accuracy: 0.5949 - val_loss: 0.8309 - val_accuracy: 0.6000\n",
      "Epoch 19/25\n",
      "122/122 [==============================] - 0s 992us/step - loss: 0.8134 - accuracy: 0.6110 - val_loss: 0.8265 - val_accuracy: 0.6085\n",
      "Epoch 20/25\n",
      "122/122 [==============================] - 0s 994us/step - loss: 0.8186 - accuracy: 0.5976 - val_loss: 0.8456 - val_accuracy: 0.5969\n",
      "Epoch 21/25\n",
      "122/122 [==============================] - 0s 1ms/step - loss: 0.8285 - accuracy: 0.6023 - val_loss: 0.8386 - val_accuracy: 0.6200\n",
      "Epoch 22/25\n",
      "122/122 [==============================] - 0s 986us/step - loss: 0.8084 - accuracy: 0.6112 - val_loss: 0.8759 - val_accuracy: 0.5608\n",
      "Epoch 23/25\n",
      "122/122 [==============================] - 0s 972us/step - loss: 0.8198 - accuracy: 0.6022 - val_loss: 0.8694 - val_accuracy: 0.5908\n",
      "Epoch 24/25\n",
      "122/122 [==============================] - 0s 1ms/step - loss: 0.8235 - accuracy: 0.5864 - val_loss: 0.8265 - val_accuracy: 0.6062\n",
      "Epoch 25/25\n",
      "122/122 [==============================] - 0s 1ms/step - loss: 0.8143 - accuracy: 0.6091 - val_loss: 0.8386 - val_accuracy: 0.6054\n"
     ]
    }
   ],
   "source": [
    "# 와인 데이터셋 다항 분류 모델 생성 및 학습\n",
    "model = tf.keras.Sequential([\n",
    "    tf.keras.layers.Dense(units=48, activation='relu', input_shape=(12,)),\n",
    "    tf.keras.layers.Dense(units=24, activation='relu'),\n",
    "    tf.keras.layers.Dense(units=12, activation='relu'),\n",
    "    tf.keras.layers.Dense(units=3, activation='softmax')\n",
    "])\n",
    "\n",
    "model.compile(optimizer=tf.keras.optimizers.Adam(lr=0.003), loss='categorical_crossentropy', metrics=['accuracy'])\n",
    "\n",
    "history= model.fit(train_X, train_Y, epochs=25, batch_size=32, validation_split=0.25)"
   ]
  },
  {
   "cell_type": "code",
   "execution_count": 18,
   "metadata": {},
   "outputs": [
    {
     "data": {
      "image/png": "[encoded data removed]",
      "text/plain": [
       "<Figure size 864x288 with 2 Axes>"
      ]
     },
     "metadata": {
      "needs_background": "light"
     },
     "output_type": "display_data"
    }
   ],
   "source": [
    "import matplotlib.pyplot as plt\n",
    "plt.figure(figsize=(12,4))\n",
    "\n",
    "plt.subplot(1,2,1)\n",
    "plt.plot(history.history['loss'], 'b-', label='loss')\n",
    "plt.plot(history.history['val_loss'], 'r--', label='val_loss')\n",
    "plt.xlabel('Epoch')\n",
    "plt.legend()\n",
    "\n",
    "plt.subplot(1,2,2)\n",
    "plt.plot(history.history['accuracy'], 'g-', label='accuracy')\n",
    "plt.plot(history.history['val_accuracy'], 'k--', label='val_accuracy')\n",
    "plt.xlabel('Epoch')\n",
    "plt.legend()\n",
    "\n",
    "plt.show()"
   ]
  },
  {
   "cell_type": "code",
   "execution_count": 19,
   "metadata": {},
   "outputs": [
    {
     "name": "stdout",
     "output_type": "stream",
     "text": [
      "41/41 [==============================] - 0s 594us/step - loss: 0.8278 - accuracy: 0.5938\n"
     ]
    },
    {
     "data": {
      "text/plain": [
       "[0.827763557434082, 0.5938461422920227]"
      ]
     },
     "execution_count": 19,
     "metadata": {},
     "output_type": "execute_result"
    }
   ],
   "source": [
    "model.evaluate(test_X, test_Y)"
   ]
  },
  {
   "cell_type": "markdown",
   "metadata": {},
   "source": [
    "# Fashion MNIST"
   ]
  },
  {
   "cell_type": "code",
   "execution_count": 20,
   "metadata": {},
   "outputs": [
    {
     "name": "stdout",
     "output_type": "stream",
     "text": [
      "60000 10000\n"
     ]
    }
   ],
   "source": [
    "import tensorflow as tf\n",
    "\n",
    "fashion_mnist= tf.keras.datasets.fashion_mnist\n",
    "(train_X, train_Y), (test_X, test_Y) = fashion_mnist.load_data()\n",
    "\n",
    "print(len(train_X), len(test_X))"
   ]
  },
  {
   "cell_type": "code",
   "execution_count": 21,
   "metadata": {},
   "outputs": [
    {
     "data": {
      "image/png": "[encoded data removed]",
      "text/plain": [
       "<Figure size 432x288 with 2 Axes>"
      ]
     },
     "metadata": {
      "needs_background": "light"
     },
     "output_type": "display_data"
    },
    {
     "name": "stdout",
     "output_type": "stream",
     "text": [
      "9\n"
     ]
    }
   ],
   "source": [
    "import matplotlib.pyplot as plt\n",
    "\n",
    "plt.imshow(train_X[0], cmap='gray')\n",
    "plt.colorbar()\n",
    "plt.show()\n",
    "\n",
    "print(train_Y[0])"
   ]
  },
  {
   "cell_type": "code",
   "execution_count": 22,
   "metadata": {},
   "outputs": [
    {
     "name": "stdout",
     "output_type": "stream",
     "text": [
      "[[0.         0.         0.         0.         0.         0.\n",
      "  0.         0.         0.         0.         0.         0.\n",
      "  0.         0.         0.         0.         0.         0.\n",
      "  0.         0.         0.         0.         0.         0.\n",
      "  0.         0.         0.         0.        ]\n",
      " [0.         0.         0.         0.         0.         0.\n",
      "  0.         0.         0.         0.         0.         0.\n",
      "  0.         0.         0.         0.         0.         0.\n",
      "  0.         0.         0.         0.         0.         0.\n",
      "  0.         0.         0.         0.        ]\n",
      " [0.         0.         0.         0.         0.         0.\n",
      "  0.         0.         0.         0.         0.         0.\n",
      "  0.         0.         0.         0.         0.         0.\n",
      "  0.         0.         0.         0.         0.         0.\n",
      "  0.         0.         0.         0.        ]\n",
      " [0.         0.         0.         0.         0.         0.\n",
      "  0.         0.         0.         0.         0.         0.\n",
      "  0.00392157 0.         0.         0.05098039 0.28627451 0.\n",
      "  0.         0.00392157 0.01568627 0.         0.         0.\n",
      "  0.         0.00392157 0.00392157 0.        ]\n",
      " [0.         0.         0.         0.         0.         0.\n",
      "  0.         0.         0.         0.         0.         0.\n",
      "  0.01176471 0.         0.14117647 0.53333333 0.49803922 0.24313725\n",
      "  0.21176471 0.         0.         0.         0.00392157 0.01176471\n",
      "  0.01568627 0.         0.         0.01176471]\n",
      " [0.         0.         0.         0.         0.         0.\n",
      "  0.         0.         0.         0.         0.         0.\n",
      "  0.02352941 0.         0.4        0.8        0.69019608 0.5254902\n",
      "  0.56470588 0.48235294 0.09019608 0.         0.         0.\n",
      "  0.         0.04705882 0.03921569 0.        ]\n",
      " [0.         0.         0.         0.         0.         0.\n",
      "  0.         0.         0.         0.         0.         0.\n",
      "  0.         0.         0.60784314 0.9254902  0.81176471 0.69803922\n",
      "  0.41960784 0.61176471 0.63137255 0.42745098 0.25098039 0.09019608\n",
      "  0.30196078 0.50980392 0.28235294 0.05882353]\n",
      " [0.         0.         0.         0.         0.         0.\n",
      "  0.         0.         0.         0.         0.         0.00392157\n",
      "  0.         0.27058824 0.81176471 0.8745098  0.85490196 0.84705882\n",
      "  0.84705882 0.63921569 0.49803922 0.4745098  0.47843137 0.57254902\n",
      "  0.55294118 0.34509804 0.6745098  0.25882353]\n",
      " [0.         0.         0.         0.         0.         0.\n",
      "  0.         0.         0.         0.00392157 0.00392157 0.00392157\n",
      "  0.         0.78431373 0.90980392 0.90980392 0.91372549 0.89803922\n",
      "  0.8745098  0.8745098  0.84313725 0.83529412 0.64313725 0.49803922\n",
      "  0.48235294 0.76862745 0.89803922 0.        ]\n",
      " [0.         0.         0.         0.         0.         0.\n",
      "  0.         0.         0.         0.         0.         0.\n",
      "  0.         0.71764706 0.88235294 0.84705882 0.8745098  0.89411765\n",
      "  0.92156863 0.89019608 0.87843137 0.87058824 0.87843137 0.86666667\n",
      "  0.8745098  0.96078431 0.67843137 0.        ]\n",
      " [0.         0.         0.         0.         0.         0.\n",
      "  0.         0.         0.         0.         0.         0.\n",
      "  0.         0.75686275 0.89411765 0.85490196 0.83529412 0.77647059\n",
      "  0.70588235 0.83137255 0.82352941 0.82745098 0.83529412 0.8745098\n",
      "  0.8627451  0.95294118 0.79215686 0.        ]\n",
      " [0.         0.         0.         0.         0.         0.\n",
      "  0.         0.         0.         0.00392157 0.01176471 0.\n",
      "  0.04705882 0.85882353 0.8627451  0.83137255 0.85490196 0.75294118\n",
      "  0.6627451  0.89019608 0.81568627 0.85490196 0.87843137 0.83137255\n",
      "  0.88627451 0.77254902 0.81960784 0.20392157]\n",
      " [0.         0.         0.         0.         0.         0.\n",
      "  0.         0.         0.         0.         0.02352941 0.\n",
      "  0.38823529 0.95686275 0.87058824 0.8627451  0.85490196 0.79607843\n",
      "  0.77647059 0.86666667 0.84313725 0.83529412 0.87058824 0.8627451\n",
      "  0.96078431 0.46666667 0.65490196 0.21960784]\n",
      " [0.         0.         0.         0.         0.         0.\n",
      "  0.         0.         0.         0.01568627 0.         0.\n",
      "  0.21568627 0.9254902  0.89411765 0.90196078 0.89411765 0.94117647\n",
      "  0.90980392 0.83529412 0.85490196 0.8745098  0.91764706 0.85098039\n",
      "  0.85098039 0.81960784 0.36078431 0.        ]\n",
      " [0.         0.         0.00392157 0.01568627 0.02352941 0.02745098\n",
      "  0.00784314 0.         0.         0.         0.         0.\n",
      "  0.92941176 0.88627451 0.85098039 0.8745098  0.87058824 0.85882353\n",
      "  0.87058824 0.86666667 0.84705882 0.8745098  0.89803922 0.84313725\n",
      "  0.85490196 1.         0.30196078 0.        ]\n",
      " [0.         0.01176471 0.         0.         0.         0.\n",
      "  0.         0.         0.         0.24313725 0.56862745 0.8\n",
      "  0.89411765 0.81176471 0.83529412 0.86666667 0.85490196 0.81568627\n",
      "  0.82745098 0.85490196 0.87843137 0.8745098  0.85882353 0.84313725\n",
      "  0.87843137 0.95686275 0.62352941 0.        ]\n",
      " [0.         0.         0.         0.         0.07058824 0.17254902\n",
      "  0.32156863 0.41960784 0.74117647 0.89411765 0.8627451  0.87058824\n",
      "  0.85098039 0.88627451 0.78431373 0.80392157 0.82745098 0.90196078\n",
      "  0.87843137 0.91764706 0.69019608 0.7372549  0.98039216 0.97254902\n",
      "  0.91372549 0.93333333 0.84313725 0.        ]\n",
      " [0.         0.22352941 0.73333333 0.81568627 0.87843137 0.86666667\n",
      "  0.87843137 0.81568627 0.8        0.83921569 0.81568627 0.81960784\n",
      "  0.78431373 0.62352941 0.96078431 0.75686275 0.80784314 0.8745098\n",
      "  1.         1.         0.86666667 0.91764706 0.86666667 0.82745098\n",
      "  0.8627451  0.90980392 0.96470588 0.        ]\n",
      " [0.01176471 0.79215686 0.89411765 0.87843137 0.86666667 0.82745098\n",
      "  0.82745098 0.83921569 0.80392157 0.80392157 0.80392157 0.8627451\n",
      "  0.94117647 0.31372549 0.58823529 1.         0.89803922 0.86666667\n",
      "  0.7372549  0.60392157 0.74901961 0.82352941 0.8        0.81960784\n",
      "  0.87058824 0.89411765 0.88235294 0.        ]\n",
      " [0.38431373 0.91372549 0.77647059 0.82352941 0.87058824 0.89803922\n",
      "  0.89803922 0.91764706 0.97647059 0.8627451  0.76078431 0.84313725\n",
      "  0.85098039 0.94509804 0.25490196 0.28627451 0.41568627 0.45882353\n",
      "  0.65882353 0.85882353 0.86666667 0.84313725 0.85098039 0.8745098\n",
      "  0.8745098  0.87843137 0.89803922 0.11372549]\n",
      " [0.29411765 0.8        0.83137255 0.8        0.75686275 0.80392157\n",
      "  0.82745098 0.88235294 0.84705882 0.7254902  0.77254902 0.80784314\n",
      "  0.77647059 0.83529412 0.94117647 0.76470588 0.89019608 0.96078431\n",
      "  0.9372549  0.8745098  0.85490196 0.83137255 0.81960784 0.87058824\n",
      "  0.8627451  0.86666667 0.90196078 0.2627451 ]\n",
      " [0.18823529 0.79607843 0.71764706 0.76078431 0.83529412 0.77254902\n",
      "  0.7254902  0.74509804 0.76078431 0.75294118 0.79215686 0.83921569\n",
      "  0.85882353 0.86666667 0.8627451  0.9254902  0.88235294 0.84705882\n",
      "  0.78039216 0.80784314 0.72941176 0.70980392 0.69411765 0.6745098\n",
      "  0.70980392 0.80392157 0.80784314 0.45098039]\n",
      " [0.         0.47843137 0.85882353 0.75686275 0.70196078 0.67058824\n",
      "  0.71764706 0.76862745 0.8        0.82352941 0.83529412 0.81176471\n",
      "  0.82745098 0.82352941 0.78431373 0.76862745 0.76078431 0.74901961\n",
      "  0.76470588 0.74901961 0.77647059 0.75294118 0.69019608 0.61176471\n",
      "  0.65490196 0.69411765 0.82352941 0.36078431]\n",
      " [0.         0.         0.29019608 0.74117647 0.83137255 0.74901961\n",
      "  0.68627451 0.6745098  0.68627451 0.70980392 0.7254902  0.7372549\n",
      "  0.74117647 0.7372549  0.75686275 0.77647059 0.8        0.81960784\n",
      "  0.82352941 0.82352941 0.82745098 0.7372549  0.7372549  0.76078431\n",
      "  0.75294118 0.84705882 0.66666667 0.        ]\n",
      " [0.00784314 0.         0.         0.         0.25882353 0.78431373\n",
      "  0.87058824 0.92941176 0.9372549  0.94901961 0.96470588 0.95294118\n",
      "  0.95686275 0.86666667 0.8627451  0.75686275 0.74901961 0.70196078\n",
      "  0.71372549 0.71372549 0.70980392 0.69019608 0.65098039 0.65882353\n",
      "  0.38823529 0.22745098 0.         0.        ]\n",
      " [0.         0.         0.         0.         0.         0.\n",
      "  0.         0.15686275 0.23921569 0.17254902 0.28235294 0.16078431\n",
      "  0.1372549  0.         0.         0.         0.         0.\n",
      "  0.         0.         0.         0.         0.         0.\n",
      "  0.         0.         0.         0.        ]\n",
      " [0.         0.         0.         0.         0.         0.\n",
      "  0.         0.         0.         0.         0.         0.\n",
      "  0.         0.         0.         0.         0.         0.\n",
      "  0.         0.         0.         0.         0.         0.\n",
      "  0.         0.         0.         0.        ]\n",
      " [0.         0.         0.         0.         0.         0.\n",
      "  0.         0.         0.         0.         0.         0.\n",
      "  0.         0.         0.         0.         0.         0.\n",
      "  0.         0.         0.         0.         0.         0.\n",
      "  0.         0.         0.         0.        ]]\n"
     ]
    }
   ],
   "source": [
    "# 데이터 정규화\n",
    "# 이미지의 각 픽셀값을 255로 나눈다\n",
    "\n",
    "train_X = train_X / 255.0\n",
    "test_X = test_X / 255.0\n",
    "\n",
    "print(train_X[0])"
   ]
  },
  {
   "cell_type": "code",
   "execution_count": 23,
   "metadata": {},
   "outputs": [
    {
     "name": "stdout",
     "output_type": "stream",
     "text": [
      "Model: \"sequential_2\"\n",
      "_________________________________________________________________\n",
      "Layer (type)                 Output Shape              Param #   \n",
      "=================================================================\n",
      "flatten (Flatten)            (None, 784)               0         \n",
      "_________________________________________________________________\n",
      "dense_8 (Dense)              (None, 128)               100480    \n",
      "_________________________________________________________________\n",
      "dense_9 (Dense)              (None, 10)                1290      \n",
      "=================================================================\n",
      "Total params: 101,770\n",
      "Trainable params: 101,770\n",
      "Non-trainable params: 0\n",
      "_________________________________________________________________\n"
     ]
    }
   ],
   "source": [
    "model = tf.keras.Sequential([\n",
    "    tf.keras.layers.Flatten(input_shape=(28,28)),\n",
    "    tf.keras.layers.Dense(units=128, activation='relu'),\n",
    "    tf.keras.layers.Dense(units=10, activation='softmax')\n",
    "])\n",
    "\n",
    "model.compile(optimizer=tf.keras.optimizers.Adam(),\n",
    "             loss='sparse_categorical_crossentropy',\n",
    "             metrics=['accuracy'])\n",
    "\n",
    "model.summary()"
   ]
  },
  {
   "cell_type": "code",
   "execution_count": 24,
   "metadata": {},
   "outputs": [
    {
     "name": "stdout",
     "output_type": "stream",
     "text": [
      "Epoch 1/25\n",
      "1407/1407 [==============================] - 2s 937us/step - loss: 0.6475 - accuracy: 0.7791 - val_loss: 0.4407 - val_accuracy: 0.8393\n",
      "Epoch 2/25\n",
      "1407/1407 [==============================] - 1s 856us/step - loss: 0.3954 - accuracy: 0.8588 - val_loss: 0.3644 - val_accuracy: 0.8695\n",
      "Epoch 3/25\n",
      "1407/1407 [==============================] - 1s 871us/step - loss: 0.3508 - accuracy: 0.8741 - val_loss: 0.3681 - val_accuracy: 0.8618\n",
      "Epoch 4/25\n",
      "1407/1407 [==============================] - 1s 884us/step - loss: 0.3279 - accuracy: 0.8791 - val_loss: 0.3605 - val_accuracy: 0.8716\n",
      "Epoch 5/25\n",
      "1407/1407 [==============================] - 1s 840us/step - loss: 0.3033 - accuracy: 0.8882 - val_loss: 0.3347 - val_accuracy: 0.8799\n",
      "Epoch 6/25\n",
      "1407/1407 [==============================] - 1s 848us/step - loss: 0.2846 - accuracy: 0.8939 - val_loss: 0.3363 - val_accuracy: 0.8775\n",
      "Epoch 7/25\n",
      "1407/1407 [==============================] - 1s 840us/step - loss: 0.2716 - accuracy: 0.8973 - val_loss: 0.3270 - val_accuracy: 0.8806\n",
      "Epoch 8/25\n",
      "1407/1407 [==============================] - 1s 859us/step - loss: 0.2605 - accuracy: 0.9031 - val_loss: 0.3289 - val_accuracy: 0.8827\n",
      "Epoch 9/25\n",
      "1407/1407 [==============================] - 1s 894us/step - loss: 0.2566 - accuracy: 0.9033 - val_loss: 0.3301 - val_accuracy: 0.8833\n",
      "Epoch 10/25\n",
      "1407/1407 [==============================] - 1s 853us/step - loss: 0.2438 - accuracy: 0.9096 - val_loss: 0.3191 - val_accuracy: 0.8851\n",
      "Epoch 11/25\n",
      "1407/1407 [==============================] - 1s 846us/step - loss: 0.2279 - accuracy: 0.9162 - val_loss: 0.3388 - val_accuracy: 0.8830\n",
      "Epoch 12/25\n",
      "1407/1407 [==============================] - 1s 847us/step - loss: 0.2137 - accuracy: 0.9200 - val_loss: 0.3548 - val_accuracy: 0.8779\n",
      "Epoch 13/25\n",
      "1407/1407 [==============================] - 1s 847us/step - loss: 0.2147 - accuracy: 0.9170 - val_loss: 0.3532 - val_accuracy: 0.8790\n"
     ]
    }
   ],
   "source": [
    "history = model.fit(train_X, train_Y, epochs=25, validation_split=0.25,\n",
    "                   callbacks=[tf.keras.callbacks.EarlyStopping(patience=3, monitor='val_loss')])"
   ]
  },
  {
   "cell_type": "code",
   "execution_count": 27,
   "metadata": {},
   "outputs": [
    {
     "data": {
      "image/png": "[encoded data removed]",
      "text/plain": [
       "<Figure size 864x288 with 2 Axes>"
      ]
     },
     "metadata": {
      "needs_background": "light"
     },
     "output_type": "display_data"
    }
   ],
   "source": [
    "import matplotlib.pyplot as plt\n",
    "\n",
    "plt.figure(figsize=(12,4))\n",
    "\n",
    "plt.subplot(1,2,1)\n",
    "plt.plot(history.history['loss'], 'b-', label='loss')\n",
    "plt.plot(history.history['val_loss'], 'r--', label='val_loss')\n",
    "plt.xlabel('Epoch')\n",
    "plt.legend()\n",
    "\n",
    "plt.subplot(1,2,2)\n",
    "plt.plot(history.history['accuracy'], 'g-', label='accuracy')\n",
    "plt.plot(history.history['val_accuracy'], 'k--', label='val_accuracy')\n",
    "plt.xlabel('Epoch')\n",
    "plt.legend()\n",
    "\n",
    "plt.show()\n",
    "\n"
   ]
  },
  {
   "cell_type": "code",
   "execution_count": 28,
   "metadata": {},
   "outputs": [
    {
     "name": "stdout",
     "output_type": "stream",
     "text": [
      "313/313 [==============================] - 0s 528us/step - loss: 0.3774 - accuracy: 0.8753\n"
     ]
    },
    {
     "data": {
      "text/plain": [
       "[0.3774479627609253, 0.8752999901771545]"
      ]
     },
     "execution_count": 28,
     "metadata": {},
     "output_type": "execute_result"
    }
   ],
   "source": [
    "model.evaluate(test_X, test_Y)"
   ]
  },
  {
   "cell_type": "code",
   "execution_count": null,
   "metadata": {},
   "outputs": [],
   "source": []
  }
 ],
 "metadata": {
  "kernelspec": {
   "display_name": "Python 3",
   "language": "python",
   "name": "python3"
  },
  "language_info": {
   "codemirror_mode": {
    "name": "ipython",
    "version": 3
   },
   "file_extension": ".py",
   "mimetype": "text/x-python",
   "name": "python",
   "nbconvert_exporter": "python",
   "pygments_lexer": "ipython3",
   "version": "3.8.5"
  }
 },
 "nbformat": 4,
 "nbformat_minor": 4
}
