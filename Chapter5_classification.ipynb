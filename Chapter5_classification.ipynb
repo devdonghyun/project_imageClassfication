{
 "cells": [
  {
   "cell_type": "markdown",
   "metadata": {},
   "source": [
    "# 캘리포니아 어바인 대학에서 제공하는 와인 데이터세트를 이용한  \n",
    "# 레드 와인, 화이트 와인 분류 문제"
   ]
  },
  {
   "cell_type": "code",
   "execution_count": 1,
   "metadata": {},
   "outputs": [
    {
     "name": "stdout",
     "output_type": "stream",
     "text": [
      "   fixed acidity  volatile acidity  citric acid  residual sugar  chlorides  \\\n",
      "0            7.4              0.70         0.00             1.9      0.076   \n",
      "1            7.8              0.88         0.00             2.6      0.098   \n",
      "2            7.8              0.76         0.04             2.3      0.092   \n",
      "3           11.2              0.28         0.56             1.9      0.075   \n",
      "4            7.4              0.70         0.00             1.9      0.076   \n",
      "\n",
      "   free sulfur dioxide  total sulfur dioxide  density    pH  sulphates  \\\n",
      "0                 11.0                  34.0   0.9978  3.51       0.56   \n",
      "1                 25.0                  67.0   0.9968  3.20       0.68   \n",
      "2                 15.0                  54.0   0.9970  3.26       0.65   \n",
      "3                 17.0                  60.0   0.9980  3.16       0.58   \n",
      "4                 11.0                  34.0   0.9978  3.51       0.56   \n",
      "\n",
      "   alcohol  quality  \n",
      "0      9.4        5  \n",
      "1      9.8        5  \n",
      "2      9.8        5  \n",
      "3      9.8        6  \n",
      "4      9.4        5  \n",
      "   fixed acidity  volatile acidity  citric acid  residual sugar  chlorides  \\\n",
      "0            7.0              0.27         0.36            20.7      0.045   \n",
      "1            6.3              0.30         0.34             1.6      0.049   \n",
      "2            8.1              0.28         0.40             6.9      0.050   \n",
      "3            7.2              0.23         0.32             8.5      0.058   \n",
      "4            7.2              0.23         0.32             8.5      0.058   \n",
      "\n",
      "   free sulfur dioxide  total sulfur dioxide  density    pH  sulphates  \\\n",
      "0                 45.0                 170.0   1.0010  3.00       0.45   \n",
      "1                 14.0                 132.0   0.9940  3.30       0.49   \n",
      "2                 30.0                  97.0   0.9951  3.26       0.44   \n",
      "3                 47.0                 186.0   0.9956  3.19       0.40   \n",
      "4                 47.0                 186.0   0.9956  3.19       0.40   \n",
      "\n",
      "   alcohol  quality  \n",
      "0      8.8        6  \n",
      "1      9.5        6  \n",
      "2     10.1        6  \n",
      "3      9.9        6  \n",
      "4      9.9        6  \n"
     ]
    }
   ],
   "source": [
    "# 와인 데이터세트 불러오기\n",
    "\n",
    "import pandas as pd\n",
    "red = pd.read_csv('http://archive.ics.uci.edu/ml/machine-learning-databases/wine-quality/winequality-red.csv', sep=';')\n",
    "white = pd.read_csv('http://archive.ics.uci.edu/ml/machine-learning-databases/wine-quality/winequality-white.csv', sep=';')\n",
    "print(red.head())\n",
    "print(white.head())"
   ]
  },
  {
   "cell_type": "code",
   "execution_count": 2,
   "metadata": {},
   "outputs": [
    {
     "name": "stdout",
     "output_type": "stream",
     "text": [
      "   fixed acidity  volatile acidity  citric acid  residual sugar  chlorides  \\\n",
      "0            7.4              0.70          0.0             1.9      0.076   \n",
      "1            7.8              0.88          0.0             2.6      0.098   \n",
      "\n",
      "   free sulfur dioxide  total sulfur dioxide  density    pH  sulphates  \\\n",
      "0                 11.0                  34.0   0.9978  3.51       0.56   \n",
      "1                 25.0                  67.0   0.9968  3.20       0.68   \n",
      "\n",
      "   alcohol  quality  type  \n",
      "0      9.4        5     0  \n",
      "1      9.8        5     0  \n",
      "   fixed acidity  volatile acidity  citric acid  residual sugar  chlorides  \\\n",
      "0            7.0              0.27         0.36            20.7      0.045   \n",
      "1            6.3              0.30         0.34             1.6      0.049   \n",
      "\n",
      "   free sulfur dioxide  total sulfur dioxide  density   pH  sulphates  \\\n",
      "0                 45.0                 170.0    1.001  3.0       0.45   \n",
      "1                 14.0                 132.0    0.994  3.3       0.49   \n",
      "\n",
      "   alcohol  quality  type  \n",
      "0      8.8        6     1  \n",
      "1      9.5        6     1  \n",
      "       fixed acidity  volatile acidity  citric acid  residual sugar  \\\n",
      "count    6497.000000       6497.000000  6497.000000     6497.000000   \n",
      "mean        7.215307          0.339666     0.318633        5.443235   \n",
      "std         1.296434          0.164636     0.145318        4.757804   \n",
      "min         3.800000          0.080000     0.000000        0.600000   \n",
      "25%         6.400000          0.230000     0.250000        1.800000   \n",
      "50%         7.000000          0.290000     0.310000        3.000000   \n",
      "75%         7.700000          0.400000     0.390000        8.100000   \n",
      "max        15.900000          1.580000     1.660000       65.800000   \n",
      "\n",
      "         chlorides  free sulfur dioxide  total sulfur dioxide      density  \\\n",
      "count  6497.000000          6497.000000           6497.000000  6497.000000   \n",
      "mean      0.056034            30.525319            115.744574     0.994697   \n",
      "std       0.035034            17.749400             56.521855     0.002999   \n",
      "min       0.009000             1.000000              6.000000     0.987110   \n",
      "25%       0.038000            17.000000             77.000000     0.992340   \n",
      "50%       0.047000            29.000000            118.000000     0.994890   \n",
      "75%       0.065000            41.000000            156.000000     0.996990   \n",
      "max       0.611000           289.000000            440.000000     1.038980   \n",
      "\n",
      "                pH    sulphates      alcohol      quality         type  \n",
      "count  6497.000000  6497.000000  6497.000000  6497.000000  6497.000000  \n",
      "mean      3.218501     0.531268    10.491801     5.818378     0.753886  \n",
      "std       0.160787     0.148806     1.192712     0.873255     0.430779  \n",
      "min       2.720000     0.220000     8.000000     3.000000     0.000000  \n",
      "25%       3.110000     0.430000     9.500000     5.000000     1.000000  \n",
      "50%       3.210000     0.510000    10.300000     6.000000     1.000000  \n",
      "75%       3.320000     0.600000    11.300000     6.000000     1.000000  \n",
      "max       4.010000     2.000000    14.900000     9.000000     1.000000  \n"
     ]
    }
   ],
   "source": [
    "# 와인 데이터셋 합치기\n",
    "\n",
    "# 데이터셋에 새로운 속성 추가하기\n",
    "red['type'] = 0\n",
    "white['type'] = 1\n",
    "print(red.head(2))\n",
    "print(white.head(2))\n",
    "\n",
    "# 두 개의 데이터프레임 합치기\n",
    "wine = pd.concat([red, white])\n",
    "print(wine.describe())"
   ]
  },
  {
   "cell_type": "code",
   "execution_count": 3,
   "metadata": {},
   "outputs": [
    {
     "data": {
      "image/png": "[encoded data removed]",
      "text/plain": [
       "<Figure size 432x288 with 1 Axes>"
      ]
     },
     "metadata": {
      "needs_background": "light"
     },
     "output_type": "display_data"
    },
    {
     "name": "stdout",
     "output_type": "stream",
     "text": [
      "1    4898\n",
      "0    1599\n",
      "Name: type, dtype: int64\n"
     ]
    }
   ],
   "source": [
    "# 레드 와인과 화이트 와인 type 히스토그램\n",
    "\n",
    "import matplotlib.pyplot as plt\n",
    "\n",
    "plt.hist(wine['type'])\n",
    "plt.xticks([0,1])\n",
    "plt.show()\n",
    "\n",
    "print(wine['type'].value_counts())"
   ]
  },
  {
   "cell_type": "markdown",
   "metadata": {},
   "source": [
    "훈련 데이터와 테스트 데이터로 나누기 전에 레드 와인과 화이트 와인이 비슷한 비율로 들어가도록 데이터를 한 번 랜덤하게 섞어야 함.\n",
    "\n",
    "데이터를 섞기 전에 데이터 정규화가 필요함"
   ]
  },
  {
   "cell_type": "code",
   "execution_count": 4,
   "metadata": {},
   "outputs": [
    {
     "name": "stdout",
     "output_type": "stream",
     "text": [
      "<class 'pandas.core.frame.DataFrame'>\n",
      "Int64Index: 6497 entries, 0 to 4897\n",
      "Data columns (total 13 columns):\n",
      " #   Column                Non-Null Count  Dtype  \n",
      "---  ------                --------------  -----  \n",
      " 0   fixed acidity         6497 non-null   float64\n",
      " 1   volatile acidity      6497 non-null   float64\n",
      " 2   citric acid           6497 non-null   float64\n",
      " 3   residual sugar        6497 non-null   float64\n",
      " 4   chlorides             6497 non-null   float64\n",
      " 5   free sulfur dioxide   6497 non-null   float64\n",
      " 6   total sulfur dioxide  6497 non-null   float64\n",
      " 7   density               6497 non-null   float64\n",
      " 8   pH                    6497 non-null   float64\n",
      " 9   sulphates             6497 non-null   float64\n",
      " 10  alcohol               6497 non-null   float64\n",
      " 11  quality               6497 non-null   int64  \n",
      " 12  type                  6497 non-null   int64  \n",
      "dtypes: float64(11), int64(2)\n",
      "memory usage: 710.6 KB\n",
      "None\n"
     ]
    }
   ],
   "source": [
    "print(wine.info())"
   ]
  },
  {
   "cell_type": "code",
   "execution_count": 5,
   "metadata": {},
   "outputs": [
    {
     "name": "stdout",
     "output_type": "stream",
     "text": [
      "   fixed acidity  volatile acidity  citric acid  residual sugar  chlorides  \\\n",
      "0       0.297521          0.413333     0.000000        0.019939   0.111296   \n",
      "1       0.330579          0.533333     0.000000        0.030675   0.147841   \n",
      "2       0.330579          0.453333     0.024096        0.026074   0.137874   \n",
      "3       0.611570          0.133333     0.337349        0.019939   0.109635   \n",
      "4       0.297521          0.413333     0.000000        0.019939   0.111296   \n",
      "\n",
      "   free sulfur dioxide  total sulfur dioxide   density        pH  sulphates  \\\n",
      "0             0.034722              0.064516  0.206092  0.612403   0.191011   \n",
      "1             0.083333              0.140553  0.186813  0.372093   0.258427   \n",
      "2             0.048611              0.110599  0.190669  0.418605   0.241573   \n",
      "3             0.055556              0.124424  0.209948  0.341085   0.202247   \n",
      "4             0.034722              0.064516  0.206092  0.612403   0.191011   \n",
      "\n",
      "    alcohol   quality  type  \n",
      "0  0.202899  0.333333   0.0  \n",
      "1  0.260870  0.333333   0.0  \n",
      "2  0.260870  0.333333   0.0  \n",
      "3  0.260870  0.500000   0.0  \n",
      "4  0.202899  0.333333   0.0  \n",
      "       fixed acidity  volatile acidity  citric acid  residual sugar  \\\n",
      "count    6497.000000       6497.000000  6497.000000     6497.000000   \n",
      "mean        0.282257          0.173111     0.191948        0.074283   \n",
      "std         0.107143          0.109758     0.087541        0.072972   \n",
      "min         0.000000          0.000000     0.000000        0.000000   \n",
      "25%         0.214876          0.100000     0.150602        0.018405   \n",
      "50%         0.264463          0.140000     0.186747        0.036810   \n",
      "75%         0.322314          0.213333     0.234940        0.115031   \n",
      "max         1.000000          1.000000     1.000000        1.000000   \n",
      "\n",
      "         chlorides  free sulfur dioxide  total sulfur dioxide      density  \\\n",
      "count  6497.000000          6497.000000           6497.000000  6497.000000   \n",
      "mean      0.078129             0.102518              0.252868     0.146262   \n",
      "std       0.058195             0.061630              0.130235     0.057811   \n",
      "min       0.000000             0.000000              0.000000     0.000000   \n",
      "25%       0.048173             0.055556              0.163594     0.100829   \n",
      "50%       0.063123             0.097222              0.258065     0.149990   \n",
      "75%       0.093023             0.138889              0.345622     0.190476   \n",
      "max       1.000000             1.000000              1.000000     1.000000   \n",
      "\n",
      "                pH    sulphates      alcohol      quality         type  \n",
      "count  6497.000000  6497.000000  6497.000000  6497.000000  6497.000000  \n",
      "mean      0.386435     0.174870     0.361131     0.469730     0.753886  \n",
      "std       0.124641     0.083599     0.172857     0.145543     0.430779  \n",
      "min       0.000000     0.000000     0.000000     0.000000     0.000000  \n",
      "25%       0.302326     0.117978     0.217391     0.333333     1.000000  \n",
      "50%       0.379845     0.162921     0.333333     0.500000     1.000000  \n",
      "75%       0.465116     0.213483     0.478261     0.500000     1.000000  \n",
      "max       1.000000     1.000000     1.000000     1.000000     1.000000  \n"
     ]
    }
   ],
   "source": [
    "# 데이터 정규화\n",
    "\n",
    "wine_norm = (wine - wine.min()) / (wine.max() - wine.min())\n",
    "print(wine_norm.head())\n",
    "print(wine_norm.describe())"
   ]
  },
  {
   "cell_type": "code",
   "execution_count": 6,
   "metadata": {},
   "outputs": [
    {
     "name": "stdout",
     "output_type": "stream",
     "text": [
      "      fixed acidity  volatile acidity  citric acid  residual sugar  chlorides  \\\n",
      "4536       0.289256          0.133333     0.325301        0.188650   0.066445   \n",
      "80         0.247934          0.093333     0.186747        0.012270   0.073090   \n",
      "4274       0.157025          0.093333     0.120482        0.236196   0.058140   \n",
      "3535       0.214876          0.133333     0.265060        0.099693   0.064784   \n",
      "1294       0.363636          0.370000     0.060241        0.023006   0.106312   \n",
      "\n",
      "      free sulfur dioxide  total sulfur dioxide   density        pH  \\\n",
      "4536             0.211806              0.336406  0.217660  0.263566   \n",
      "80               0.114583              0.248848  0.111625  0.519380   \n",
      "4274             0.138889              0.246544  0.221901  0.387597   \n",
      "3535             0.166667              0.398618  0.157509  0.333333   \n",
      "1294             0.083333              0.124424  0.178716  0.441860   \n",
      "\n",
      "      sulphates   alcohol   quality  type  \n",
      "4536   0.129213  0.159420  0.500000   1.0  \n",
      "80     0.308989  0.376812  0.500000   1.0  \n",
      "4274   0.134831  0.130435  0.500000   1.0  \n",
      "3535   0.146067  0.173913  0.333333   1.0  \n",
      "1294   0.297753  0.420290  0.500000   0.0  \n",
      "[[0.2892562  0.13333333 0.3253012  0.18865031 0.06644518 0.21180556\n",
      "  0.33640553 0.21765953 0.26356589 0.12921348 0.15942029 0.5\n",
      "  1.        ]\n",
      " [0.24793388 0.09333333 0.18674699 0.01226994 0.0730897  0.11458333\n",
      "  0.24884793 0.11162522 0.51937984 0.30898876 0.37681159 0.5\n",
      "  1.        ]\n",
      " [0.15702479 0.09333333 0.12048193 0.23619632 0.05813953 0.13888889\n",
      "  0.24654378 0.22190091 0.3875969  0.13483146 0.13043478 0.5\n",
      "  1.        ]\n",
      " [0.21487603 0.13333333 0.26506024 0.09969325 0.06478405 0.16666667\n",
      "  0.39861751 0.15750916 0.33333333 0.14606742 0.17391304 0.33333333\n",
      "  1.        ]\n",
      " [0.36363636 0.37       0.06024096 0.02300613 0.10631229 0.08333333\n",
      "  0.12442396 0.17871602 0.44186047 0.29775281 0.42028986 0.5\n",
      "  0.        ]]\n"
     ]
    }
   ],
   "source": [
    "# 데이터를 섞은 다음 numpy array로 변환\n",
    "\n",
    "import numpy as np\n",
    "\n",
    "wine_shuffle = wine_norm.sample(frac=1)\n",
    "print(wine_shuffle.head())\n",
    "wine_np = wine_shuffle.to_numpy()\n",
    "print(wine_np[:5])"
   ]
  },
  {
   "cell_type": "code",
   "execution_count": 7,
   "metadata": {},
   "outputs": [
    {
     "name": "stdout",
     "output_type": "stream",
     "text": [
      "[0.2892562  0.13333333 0.3253012  0.18865031 0.06644518 0.21180556\n",
      " 0.33640553 0.21765953 0.26356589 0.12921348 0.15942029 0.5       ]\n",
      "1.0\n",
      "[0.23966942 0.21333333 0.13253012 0.12576687 0.07142857 0.07986111\n",
      " 0.24654378 0.16676306 0.3875969  0.12921348 0.20289855 0.33333333]\n",
      "1.0\n",
      "[0. 1.]\n",
      "[0. 1.]\n"
     ]
    }
   ],
   "source": [
    "# 훈련 데이터와 테스트 데이터 나누기\n",
    "\n",
    "import tensorflow as tf\n",
    "\n",
    "train_idx = int(len(wine_np) * 0.8)\n",
    "train_X, train_Y = wine_np[:train_idx, :-1], wine_np[:train_idx, -1]\n",
    "test_X, test_Y = wine_np[train_idx:, :-1], wine_np[train_idx:, -1]\n",
    "print(train_X[0])\n",
    "print(train_Y[0])\n",
    "print(test_X[0])\n",
    "print(test_Y[0])\n",
    "train_Y = tf.keras.utils.to_categorical(train_Y, num_classes=2)\n",
    "test_Y = tf.keras.utils.to_categorical(test_Y, num_classes=2)\n",
    "print(train_Y[0])\n",
    "print(test_Y[0])"
   ]
  },
  {
   "cell_type": "markdown",
   "metadata": {},
   "source": [
    "## tf.keras.utils.to_categorical: 정답 행렬을 원-핫 인코딩 방식으로 바꿈"
   ]
  },
  {
   "cell_type": "code",
   "execution_count": 8,
   "metadata": {},
   "outputs": [
    {
     "name": "stdout",
     "output_type": "stream",
     "text": [
      "Model: \"sequential\"\n",
      "_________________________________________________________________\n",
      "Layer (type)                 Output Shape              Param #   \n",
      "=================================================================\n",
      "dense (Dense)                (None, 48)                624       \n",
      "_________________________________________________________________\n",
      "dense_1 (Dense)              (None, 24)                1176      \n",
      "_________________________________________________________________\n",
      "dense_2 (Dense)              (None, 12)                300       \n",
      "_________________________________________________________________\n",
      "dense_3 (Dense)              (None, 2)                 26        \n",
      "=================================================================\n",
      "Total params: 2,126\n",
      "Trainable params: 2,126\n",
      "Non-trainable params: 0\n",
      "_________________________________________________________________\n"
     ]
    }
   ],
   "source": [
    "# 와인 데이터셋 분류 모델 생성\n",
    "\n",
    "import tensorflow as tf\n",
    "model = tf.keras.Sequential([\n",
    "    tf.keras.layers.Dense(units=48, activation='relu', input_shape=(12,)),\n",
    "    tf.keras.layers.Dense(units=24, activation='relu'),\n",
    "    tf.keras.layers.Dense(units=12, activation='relu'),\n",
    "    tf.keras.layers.Dense(units=2, activation='softmax')\n",
    "])\n",
    "\n",
    "model.compile(optimizer=tf.keras.optimizers.Adam(lr=0.07), loss='categorical_crossentropy', metrics=['accuracy'])\n",
    "\n",
    "model.summary()"
   ]
  },
  {
   "cell_type": "markdown",
   "metadata": {},
   "source": [
    "## softmax: 큰 값을 강조하고 작은 값은 약화하는 효과를 갖는다.\n",
    "## loss='categorical_crossentropy': \n",
    "    categorical: 범주에 쓰이는 분류\n",
    "    crossentropy: 엔트로피의 기댓값과 비슷하지만 조금 다름\n",
    "## accuracy: 모델의 히스토리에 loss와 accuracy가 함께 저장된다."
   ]
  },
  {
   "cell_type": "code",
   "execution_count": 9,
   "metadata": {},
   "outputs": [
    {
     "name": "stdout",
     "output_type": "stream",
     "text": [
      "Epoch 1/25\n",
      "122/122 [==============================] - 1s 5ms/step - loss: 0.2200 - accuracy: 0.8793 - val_loss: 0.0502 - val_accuracy: 0.9923\n",
      "Epoch 2/25\n",
      "122/122 [==============================] - 0s 1ms/step - loss: 0.0669 - accuracy: 0.9786 - val_loss: 0.0678 - val_accuracy: 0.9823\n",
      "Epoch 3/25\n",
      "122/122 [==============================] - 0s 1ms/step - loss: 0.0456 - accuracy: 0.9869 - val_loss: 0.0453 - val_accuracy: 0.9885\n",
      "Epoch 4/25\n",
      "122/122 [==============================] - 0s 945us/step - loss: 0.0562 - accuracy: 0.9836 - val_loss: 0.0439 - val_accuracy: 0.9915\n",
      "Epoch 5/25\n",
      "122/122 [==============================] - 0s 957us/step - loss: 0.0475 - accuracy: 0.9886 - val_loss: 0.0628 - val_accuracy: 0.9900\n",
      "Epoch 6/25\n",
      "122/122 [==============================] - 0s 984us/step - loss: 0.0518 - accuracy: 0.9837 - val_loss: 0.0509 - val_accuracy: 0.9923\n",
      "Epoch 7/25\n",
      "122/122 [==============================] - 0s 998us/step - loss: 0.0372 - accuracy: 0.9901 - val_loss: 0.1066 - val_accuracy: 0.9669\n",
      "Epoch 8/25\n",
      "122/122 [==============================] - 0s 952us/step - loss: 0.0392 - accuracy: 0.9873 - val_loss: 0.0684 - val_accuracy: 0.9846\n",
      "Epoch 9/25\n",
      "122/122 [==============================] - 0s 982us/step - loss: 0.0497 - accuracy: 0.9859 - val_loss: 0.0513 - val_accuracy: 0.9892\n",
      "Epoch 10/25\n",
      "122/122 [==============================] - 0s 956us/step - loss: 0.0361 - accuracy: 0.9881 - val_loss: 0.0662 - val_accuracy: 0.9877\n",
      "Epoch 11/25\n",
      "122/122 [==============================] - 0s 1ms/step - loss: 0.0419 - accuracy: 0.9905 - val_loss: 0.2352 - val_accuracy: 0.8654\n",
      "Epoch 12/25\n",
      "122/122 [==============================] - 0s 973us/step - loss: 0.0715 - accuracy: 0.9807 - val_loss: 0.0680 - val_accuracy: 0.9915\n",
      "Epoch 13/25\n",
      "122/122 [==============================] - 0s 961us/step - loss: 0.0393 - accuracy: 0.9912 - val_loss: 0.0530 - val_accuracy: 0.9908\n",
      "Epoch 14/25\n",
      "122/122 [==============================] - 0s 990us/step - loss: 0.0525 - accuracy: 0.9875 - val_loss: 0.0771 - val_accuracy: 0.9738\n",
      "Epoch 15/25\n",
      "122/122 [==============================] - 0s 1ms/step - loss: 0.0666 - accuracy: 0.9826 - val_loss: 0.0773 - val_accuracy: 0.9885\n",
      "Epoch 16/25\n",
      "122/122 [==============================] - 0s 1ms/step - loss: 0.0587 - accuracy: 0.9865 - val_loss: 0.0735 - val_accuracy: 0.9838\n",
      "Epoch 17/25\n",
      "122/122 [==============================] - 0s 938us/step - loss: 0.0627 - accuracy: 0.9813 - val_loss: 0.0673 - val_accuracy: 0.9908\n",
      "Epoch 18/25\n",
      "122/122 [==============================] - 0s 981us/step - loss: 0.0456 - accuracy: 0.9866 - val_loss: 0.0833 - val_accuracy: 0.9900\n",
      "Epoch 19/25\n",
      "122/122 [==============================] - 0s 1ms/step - loss: 0.0449 - accuracy: 0.9872 - val_loss: 0.1482 - val_accuracy: 0.9592\n",
      "Epoch 20/25\n",
      "122/122 [==============================] - 0s 1ms/step - loss: 0.0447 - accuracy: 0.9887 - val_loss: 0.0760 - val_accuracy: 0.9915\n",
      "Epoch 21/25\n",
      "122/122 [==============================] - 0s 1ms/step - loss: 0.0389 - accuracy: 0.9898 - val_loss: 0.0592 - val_accuracy: 0.9908\n",
      "Epoch 22/25\n",
      "122/122 [==============================] - 0s 975us/step - loss: 0.0375 - accuracy: 0.9913 - val_loss: 0.0642 - val_accuracy: 0.9915\n",
      "Epoch 23/25\n",
      "122/122 [==============================] - 0s 992us/step - loss: 0.0441 - accuracy: 0.9869 - val_loss: 0.0552 - val_accuracy: 0.9915\n",
      "Epoch 24/25\n",
      "122/122 [==============================] - 0s 985us/step - loss: 0.0396 - accuracy: 0.9880 - val_loss: 0.0781 - val_accuracy: 0.9754\n",
      "Epoch 25/25\n",
      "122/122 [==============================] - 0s 1ms/step - loss: 0.0316 - accuracy: 0.9905 - val_loss: 0.0659 - val_accuracy: 0.9923\n"
     ]
    }
   ],
   "source": [
    "history = model.fit(train_X, train_Y, epochs=25, batch_size=32, validation_split=0.25)"
   ]
  },
  {
   "cell_type": "code",
   "execution_count": 10,
   "metadata": {},
   "outputs": [
    {
     "data": {
      "image/png": "[encoded data removed]",
      "text/plain": [
       "<Figure size 864x288 with 2 Axes>"
      ]
     },
     "metadata": {
      "needs_background": "light"
     },
     "output_type": "display_data"
    }
   ],
   "source": [
    "import matplotlib.pyplot as plt\n",
    "\n",
    "plt.figure(figsize=(12,4))\n",
    "\n",
    "plt.subplot(1,2,1)\n",
    "plt.plot(history.history['loss'], 'b-', label='loss')\n",
    "plt.plot(history.history['val_loss'], 'r--', label='val_loss')\n",
    "plt.xlabel('Epoch')\n",
    "plt.legend()\n",
    "\n",
    "plt.subplot(1,2,2)\n",
    "plt.plot(history.history['accuracy'], 'g-', label='accuracy')\n",
    "plt.plot(history.history['val_accuracy'], 'k--', label='val_accuracy')\n",
    "plt.xlabel('Epoch')\n",
    "plt.ylim(0.7, 1)\n",
    "plt.legend()\n",
    "\n",
    "plt.show()"
   ]
  },
  {
   "cell_type": "code",
   "execution_count": 11,
   "metadata": {},
   "outputs": [
    {
     "name": "stdout",
     "output_type": "stream",
     "text": [
      "41/41 [==============================] - 0s 519us/step - loss: 0.0215 - accuracy: 0.9938\n"
     ]
    },
    {
     "data": {
      "text/plain": [
       "[0.021512236446142197, 0.9938461780548096]"
      ]
     },
     "execution_count": 11,
     "metadata": {},
     "output_type": "execute_result"
    }
   ],
   "source": [
    "model.evaluate(test_X, test_Y)"
   ]
  }
 ],
 "metadata": {
  "kernelspec": {
   "display_name": "Python 3",
   "language": "python",
   "name": "python3"
  },
  "language_info": {
   "codemirror_mode": {
    "name": "ipython",
    "version": 3
   },
   "file_extension": ".py",
   "mimetype": "text/x-python",
   "name": "python",
   "nbconvert_exporter": "python",
   "pygments_lexer": "ipython3",
   "version": "3.8.5"
  }
 },
 "nbformat": 4,
 "nbformat_minor": 4
}
